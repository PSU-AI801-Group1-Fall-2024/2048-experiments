{
 "cells": [
  {
   "cell_type": "code",
   "execution_count": 79,
   "id": "a1ab07f9-264b-4040-bd0d-78350df125bd",
   "metadata": {},
   "outputs": [],
   "source": [
    "import math\n",
    "import matplotlib.pyplot as plt\n",
    "import pandas as pd"
   ]
  },
  {
   "cell_type": "code",
   "execution_count": 80,
   "id": "81f567f1-e403-4ff7-ad68-043795ffe195",
   "metadata": {},
   "outputs": [],
   "source": [
    "ITERATION_COUNT = 200.0"
   ]
  },
  {
   "cell_type": "code",
   "execution_count": 121,
   "id": "65337182-68c7-4a1e-a3b9-6a8ec8a87e77",
   "metadata": {},
   "outputs": [],
   "source": [
    "color_psu_nittany_navy = '#001e44'\n",
    "color_psu_beaver_blue = '#1e407c'\n",
    "color_psu_pugh_blue = '#96bee6'\n",
    "\n",
    "color_psu_white_out = '#ffffff'"
   ]
  },
  {
   "cell_type": "code",
   "execution_count": 82,
   "id": "1ca865dc-5d3a-4a0d-8043-07133ff2a3bf",
   "metadata": {},
   "outputs": [],
   "source": [
    "def won(df):\n",
    "    return df[df['Max Tile'] > 1024]"
   ]
  },
  {
   "cell_type": "markdown",
   "id": "5d3b6ad0-dd2d-4c50-a2ad-a6beeb589cef",
   "metadata": {},
   "source": [
    "# Plotting"
   ]
  },
  {
   "cell_type": "code",
   "execution_count": 83,
   "id": "db6ecca1-930f-416e-9b10-581ffe96d3ac",
   "metadata": {},
   "outputs": [],
   "source": [
    "def line_plot(x, y):\n",
    "    xs = [str(xi) for xi in x]\n",
    "    fig, ax1 = plt.subplots()\n",
    "    fig.set_figwidth(6)\n",
    "    fig.set_figheight(3)\n",
    "    \n",
    "    l1 = ax1.plot(xs, y, color = color_psu_beaver_blue)\n",
    "\n",
    "    plt.tick_params(axis='y', colors='dimgrey')\n",
    "    plt.tick_params(axis='x', colors='dimgrey')\n",
    "\n",
    "    for pos in ['right', 'top', 'left']:\n",
    "        plt.gca().spines[pos].set_visible(False)\n",
    "        \n",
    "    plt.grid(axis = 'y', color = 'lightgrey')\n",
    "    plt.show()"
   ]
  },
  {
   "cell_type": "code",
   "execution_count": 148,
   "id": "4b13ffad-02e4-4be1-b139-2c29f6d3fb41",
   "metadata": {},
   "outputs": [],
   "source": [
    "def bar_chart(x, y):\n",
    "    fig, ax1 = plt.subplots()\n",
    "    fig.set_figwidth(6)\n",
    "    fig.set_figheight(3)\n",
    "\n",
    "    colors = [\n",
    "        color_psu_nittany_navy,\n",
    "        color_psu_pugh_blue,        \n",
    "        color_psu_beaver_blue,\n",
    "    ]\n",
    "\n",
    "    for pos in ['right', 'top', 'left']:\n",
    "        plt.gca().spines[pos].set_visible(False)\n",
    "    \n",
    "    for i in range(0, len(y)):\n",
    "        yi = y[i]\n",
    "        ax1.bar(i * 1, yi, color = colors[i])\n",
    "\n",
    "    xticks = [i * 1 for i in range(0, len(x))]\n",
    "    ax1.set_xticks(xticks, x)\n",
    "\n",
    "    plt.grid(axis = 'y', color = 'lightgrey')\n",
    "    plt.show()"
   ]
  },
  {
   "cell_type": "markdown",
   "id": "c2593774-61f6-4751-85ec-658192b557b5",
   "metadata": {},
   "source": [
    "# Data Load"
   ]
  },
  {
   "cell_type": "code",
   "execution_count": 84,
   "id": "a7d6def5-aada-405b-9b7b-af61c11fa95a",
   "metadata": {},
   "outputs": [],
   "source": [
    "df_random = pd.read_csv('./data/results-random.csv')\n",
    "df_expectimax_2 = pd.read_csv('./data/results-expectimax-5444-2.csv')\n",
    "df_expectimax_3 = pd.read_csv('./data/results-expectimax-5444-3.csv')\n",
    "df_expectimax_4 = pd.read_csv('./data/results-expectimax-5444-4.csv')\n",
    "df_expectimax_5 = pd.read_csv('./data/results-expectimax-5444-5.csv')\n",
    "df_mcts_24 = pd.read_csv('./data/results-mcts-4440-24.csv')\n",
    "df_mcts_48 = pd.read_csv('./data/results-mcts-4440-48.csv')\n",
    "df_mcts_96 = pd.read_csv('./data/results-mcts-4440-96.csv')\n",
    "df_mcts_144 = pd.read_csv('./data/results-mcts-4440-144.csv')"
   ]
  },
  {
   "cell_type": "code",
   "execution_count": 85,
   "id": "7679fec2-21a2-4b43-90ce-7e2b659f42d9",
   "metadata": {},
   "outputs": [],
   "source": [
    "df_expectimax_eval = pd.read_csv('./data/eval-expectimax-3.csv').set_axis(['id', '0', '1', '2', '3', 'avg_max', 'max', 'avg_its', 'max_its'], axis = 1).set_index(['id'])\n",
    "df_mcts_eval = pd.read_csv('./data/eval-mcts-48.csv').set_axis(['id', '0', '1', '2', '3', 'avg_max', 'max', 'avg_its', 'max_its'], axis = 1).set_index(['id'])"
   ]
  },
  {
   "cell_type": "markdown",
   "id": "87eeef55-69f0-4ee6-a95c-3c8049eab6ce",
   "metadata": {},
   "source": [
    "# Evaluation Function Fitting"
   ]
  },
  {
   "cell_type": "markdown",
   "id": "2921e77c-5315-4379-b403-6ceb22f062d5",
   "metadata": {},
   "source": [
    "## Number of functions that won"
   ]
  },
  {
   "cell_type": "code",
   "execution_count": 86,
   "id": "80cea196-4a0e-4d95-9fd7-add4fcd29c86",
   "metadata": {},
   "outputs": [
    {
     "data": {
      "text/plain": [
       "np.int64(5)"
      ]
     },
     "execution_count": 86,
     "metadata": {},
     "output_type": "execute_result"
    }
   ],
   "source": [
    "df_expectimax_eval[df_expectimax_eval['max'] > 1024].count()['0']"
   ]
  },
  {
   "cell_type": "code",
   "execution_count": 87,
   "id": "b9b5eaa9-3610-4562-a54e-60a54b919330",
   "metadata": {},
   "outputs": [
    {
     "data": {
      "text/plain": [
       "np.int64(15)"
      ]
     },
     "execution_count": 87,
     "metadata": {},
     "output_type": "execute_result"
    }
   ],
   "source": [
    "df_mcts_eval[df_mcts_eval['max'] > 1024].count()['0']"
   ]
  },
  {
   "cell_type": "code",
   "execution_count": 146,
   "id": "9a113354-d6cc-4016-ae63-ff5971664fb3",
   "metadata": {},
   "outputs": [
    {
     "data": {
      "image/png": "[encoded data removed]",
      "text/plain": [
       "<Figure size 600x300 with 1 Axes>"
      ]
     },
     "metadata": {},
     "output_type": "display_data"
    }
   ],
   "source": [
    "bar_chart([\"Random\", \"Expectimax\", \"MCTS\"], [\n",
    "    won(df_random).count()['Max Tile'],\n",
    "    df_expectimax_eval[df_expectimax_eval['max'] > 1024].count()['0'],\n",
    "    df_mcts_eval[df_mcts_eval['max'] > 1024].count()['0']\n",
    "])"
   ]
  },
  {
   "cell_type": "markdown",
   "id": "35bf3ea7-8a80-47a1-99c6-36cebd7478ab",
   "metadata": {},
   "source": [
    "## Best function powers of 2\n",
    "\n",
    "As defined by achieving the mighest average number of iterations"
   ]
  },
  {
   "cell_type": "code",
   "execution_count": 88,
   "id": "416b4be8-2b89-4a29-a62c-e4b6518f2e99",
   "metadata": {},
   "outputs": [
    {
     "data": {
      "text/plain": [
       "0             5.000000\n",
       "1             4.000000\n",
       "2             4.000000\n",
       "3             4.000000\n",
       "avg_max     938.666667\n",
       "max        1024.000000\n",
       "avg_its     278.625000\n",
       "max_its     911.000000\n",
       "Name: 1037, dtype: float64"
      ]
     },
     "execution_count": 88,
     "metadata": {},
     "output_type": "execute_result"
    }
   ],
   "source": [
    "df_expectimax_eval.sort_values(['avg_its'], ascending = False).iloc[0]"
   ]
  },
  {
   "cell_type": "code",
   "execution_count": 89,
   "id": "779efaff-ad6a-444a-a99c-f5f8dc64ffa2",
   "metadata": {},
   "outputs": [
    {
     "data": {
      "text/plain": [
       "0             4.000000\n",
       "1             4.000000\n",
       "2             4.000000\n",
       "3             0.000000\n",
       "avg_max    1109.333333\n",
       "max        2048.000000\n",
       "avg_its     351.250000\n",
       "max_its    1674.000000\n",
       "Name: 1032, dtype: float64"
      ]
     },
     "execution_count": 89,
     "metadata": {},
     "output_type": "execute_result"
    }
   ],
   "source": [
    "df_mcts_eval.sort_values(['avg_its'], ascending = False).iloc[0]"
   ]
  },
  {
   "cell_type": "markdown",
   "id": "e8157f32-8418-4d05-8e28-c559a8fadb4f",
   "metadata": {},
   "source": [
    "# Wins"
   ]
  },
  {
   "cell_type": "code",
   "execution_count": 90,
   "id": "1c4a59b9-d39d-4414-be10-f4fb557d1409",
   "metadata": {},
   "outputs": [
    {
     "data": {
      "text/plain": [
       "np.int64(0)"
      ]
     },
     "execution_count": 90,
     "metadata": {},
     "output_type": "execute_result"
    }
   ],
   "source": [
    "won(df_random).count()['Max Tile']"
   ]
  },
  {
   "cell_type": "code",
   "execution_count": 91,
   "id": "42bfc811-c6ed-4845-b6fc-9286cfd47fd4",
   "metadata": {},
   "outputs": [
    {
     "data": {
      "text/plain": [
       "(np.int64(0), np.int64(1), np.int64(0), np.int64(3))"
      ]
     },
     "execution_count": 91,
     "metadata": {},
     "output_type": "execute_result"
    }
   ],
   "source": [
    "(\t\n",
    "    won(df_expectimax_2).count()['Max Tile'],    \n",
    "    won(df_expectimax_3).count()['Max Tile'],    \n",
    "    won(df_expectimax_4).count()['Max Tile'],    \n",
    "    won(df_expectimax_5).count()['Max Tile'],    \n",
    "    \n",
    ")"
   ]
  },
  {
   "cell_type": "code",
   "execution_count": 92,
   "id": "e6d55eb5-652b-4e8b-9516-63611af07aae",
   "metadata": {},
   "outputs": [
    {
     "data": {
      "image/png": "[encoded data removed]",
      "text/plain": [
       "<Figure size 600x300 with 1 Axes>"
      ]
     },
     "metadata": {},
     "output_type": "display_data"
    }
   ],
   "source": [
    "x = [2, 3, 4, 5]\n",
    "y = [\n",
    "    won(df_expectimax_2).count()['Max Tile'],    \n",
    "    won(df_expectimax_3).count()['Max Tile'],    \n",
    "    won(df_expectimax_4).count()['Max Tile'],    \n",
    "    won(df_expectimax_5).count()['Max Tile'],   \n",
    "]\n",
    "\n",
    "line_plot(x, y)"
   ]
  },
  {
   "cell_type": "code",
   "execution_count": 93,
   "id": "2fbb76c1-d617-47b2-8019-1e2a21a54f3f",
   "metadata": {},
   "outputs": [
    {
     "data": {
      "text/plain": [
       "(np.int64(0), np.int64(3), np.int64(15), np.int64(14))"
      ]
     },
     "execution_count": 93,
     "metadata": {},
     "output_type": "execute_result"
    }
   ],
   "source": [
    "(\t\n",
    "    won(df_mcts_24).count()['Max Tile'],\n",
    "    won(df_mcts_48).count()['Max Tile'],\n",
    "    won(df_mcts_96).count()['Max Tile'],    \n",
    "    won(df_mcts_144).count()['Max Tile'],    \n",
    ")"
   ]
  },
  {
   "cell_type": "code",
   "execution_count": 94,
   "id": "0fa5aefa-dc5a-4c3c-88a5-67e6c830d5bf",
   "metadata": {},
   "outputs": [
    {
     "data": {
      "image/png": "[encoded data removed]",
      "text/plain": [
       "<Figure size 600x300 with 1 Axes>"
      ]
     },
     "metadata": {},
     "output_type": "display_data"
    }
   ],
   "source": [
    "x = [24, 48, 96, 144]\n",
    "y = [\n",
    "    won(df_mcts_24).count()['Max Tile'],    \n",
    "    won(df_mcts_48).count()['Max Tile'],    \n",
    "    won(df_mcts_96).count()['Max Tile'],    \n",
    "    won(df_mcts_144).count()['Max Tile'],   \n",
    "]\n",
    "\n",
    "line_plot(x, y)"
   ]
  },
  {
   "cell_type": "markdown",
   "id": "1a56e8e6-8c0d-4560-ada5-25e9ac2862b2",
   "metadata": {},
   "source": [
    "# Avg iterations"
   ]
  },
  {
   "cell_type": "code",
   "execution_count": 95,
   "id": "535c331b-15ce-4141-a1ea-11bbe5b59577",
   "metadata": {},
   "outputs": [
    {
     "data": {
      "text/plain": [
       "np.float64(119.055)"
      ]
     },
     "execution_count": 95,
     "metadata": {},
     "output_type": "execute_result"
    }
   ],
   "source": [
    "df_random['Iterations'].mean()"
   ]
  },
  {
   "cell_type": "code",
   "execution_count": 96,
   "id": "817d199c-04f5-41a8-8733-60fd7bf509d0",
   "metadata": {},
   "outputs": [
    {
     "data": {
      "text/plain": [
       "(np.float64(388.03),\n",
       " np.float64(547.18),\n",
       " np.float64(483.14),\n",
       " np.float64(630.165))"
      ]
     },
     "execution_count": 96,
     "metadata": {},
     "output_type": "execute_result"
    }
   ],
   "source": [
    "(\n",
    "    df_expectimax_2['Iterations'].mean(),\n",
    "    df_expectimax_3['Iterations'].mean(),\n",
    "    df_expectimax_4['Iterations'].mean(),\n",
    "    df_expectimax_5['Iterations'].mean(),\n",
    ")"
   ]
  },
  {
   "cell_type": "code",
   "execution_count": 112,
   "id": "d92c3aca-aebf-4170-b63e-bc18b1059767",
   "metadata": {},
   "outputs": [
    {
     "data": {
      "image/png": "[encoded data removed]",
      "text/plain": [
       "<Figure size 600x300 with 1 Axes>"
      ]
     },
     "metadata": {},
     "output_type": "display_data"
    }
   ],
   "source": [
    "x = [2, 3, 4, 5]\n",
    "y = [\n",
    "    df_expectimax_2['Iterations'].mean(),\n",
    "    df_expectimax_3['Iterations'].mean(),\n",
    "    df_expectimax_4['Iterations'].mean(),\n",
    "    df_expectimax_5['Iterations'].mean(), \n",
    "]\n",
    "\n",
    "line_plot(x, y)"
   ]
  },
  {
   "cell_type": "code",
   "execution_count": 97,
   "id": "57c1e518-c431-4ab6-98c3-8badc171b2f7",
   "metadata": {},
   "outputs": [
    {
     "data": {
      "text/plain": [
       "(np.float64(489.45),\n",
       " np.float64(601.735),\n",
       " np.float64(694.93),\n",
       " np.float64(727.47))"
      ]
     },
     "execution_count": 97,
     "metadata": {},
     "output_type": "execute_result"
    }
   ],
   "source": [
    "(\n",
    "    df_mcts_24['Iterations'].mean(),\n",
    "    df_mcts_48['Iterations'].mean(),\n",
    "    df_mcts_96['Iterations'].mean(),\n",
    "    df_mcts_144['Iterations'].mean(),   \n",
    ")"
   ]
  },
  {
   "cell_type": "code",
   "execution_count": 113,
   "id": "2f83c39a-574d-4973-975d-97f47d555884",
   "metadata": {},
   "outputs": [
    {
     "data": {
      "image/png": "[encoded data removed]",
      "text/plain": [
       "<Figure size 600x300 with 1 Axes>"
      ]
     },
     "metadata": {},
     "output_type": "display_data"
    }
   ],
   "source": [
    "x = [24, 48, 96, 144]\n",
    "y = [\n",
    "    df_mcts_24['Iterations'].mean(),\n",
    "    df_mcts_48['Iterations'].mean(),\n",
    "    df_mcts_96['Iterations'].mean(),\n",
    "    df_mcts_144['Iterations'].mean(),\n",
    "]\n",
    "\n",
    "line_plot(x, y)"
   ]
  },
  {
   "cell_type": "markdown",
   "id": "ee53f3ac-4df0-4b46-9408-a3257f64b742",
   "metadata": {},
   "source": [
    "# Avg time (s) per iteration"
   ]
  },
  {
   "cell_type": "code",
   "execution_count": 98,
   "id": "34ac3ee5-6d98-4a04-99bf-cb9d8e35c8da",
   "metadata": {},
   "outputs": [
    {
     "data": {
      "text/plain": [
       "(np.float64(0.0010976360799154002),\n",
       " np.float64(0.011309717347326775),\n",
       " np.float64(0.050387632044468916),\n",
       " np.float64(0.524632865478692))"
      ]
     },
     "execution_count": 98,
     "metadata": {},
     "output_type": "execute_result"
    }
   ],
   "source": [
    "(\n",
    "    sum((df_expectimax_2['Time (s)'] / df_expectimax_2['Iterations']).values) / ITERATION_COUNT,\n",
    "    sum((df_expectimax_3['Time (s)'] / df_expectimax_3['Iterations']).values) / ITERATION_COUNT,\n",
    "    sum((df_expectimax_4['Time (s)'] / df_expectimax_4['Iterations']).values) / ITERATION_COUNT,\n",
    "    sum((df_expectimax_5['Time (s)'] / df_expectimax_5['Iterations']).values) / ITERATION_COUNT,    \n",
    ")   "
   ]
  },
  {
   "cell_type": "code",
   "execution_count": 99,
   "id": "dcc153f8-b987-42ca-bfa6-d93629fac116",
   "metadata": {},
   "outputs": [
    {
     "data": {
      "image/png": "[encoded data removed]",
      "text/plain": [
       "<Figure size 600x300 with 1 Axes>"
      ]
     },
     "metadata": {},
     "output_type": "display_data"
    }
   ],
   "source": [
    "x = [2, 3, 4, 5]\n",
    "y = [\n",
    "    sum((df_expectimax_2['Time (s)'] / df_expectimax_2['Iterations']).values) / ITERATION_COUNT,\n",
    "    sum((df_expectimax_3['Time (s)'] / df_expectimax_3['Iterations']).values) / ITERATION_COUNT,\n",
    "    sum((df_expectimax_4['Time (s)'] / df_expectimax_4['Iterations']).values) / ITERATION_COUNT,\n",
    "    sum((df_expectimax_5['Time (s)'] / df_expectimax_5['Iterations']).values) / ITERATION_COUNT,   \n",
    "]\n",
    "\n",
    "line_plot(x, y)"
   ]
  },
  {
   "cell_type": "code",
   "execution_count": 100,
   "id": "e9d697f4-3051-4ae0-8b4b-de64d3f1ac5d",
   "metadata": {},
   "outputs": [
    {
     "data": {
      "text/plain": [
       "(np.float64(0.03755861461590695),\n",
       " np.float64(0.07479495816703109),\n",
       " np.float64(0.1499709580132559),\n",
       " np.float64(0.23188183860149908))"
      ]
     },
     "execution_count": 100,
     "metadata": {},
     "output_type": "execute_result"
    }
   ],
   "source": [
    "(\n",
    "    sum((df_mcts_24['Time (s)'] / df_mcts_24['Iterations']).values) / ITERATION_COUNT,\n",
    "    sum((df_mcts_48['Time (s)'] / df_mcts_48['Iterations']).values) / ITERATION_COUNT,\n",
    "    sum((df_mcts_96['Time (s)'] / df_mcts_96['Iterations']).values) / ITERATION_COUNT,\n",
    "    sum((df_mcts_144['Time (s)'] / df_mcts_144['Iterations']).values) / ITERATION_COUNT,    \n",
    ")   "
   ]
  },
  {
   "cell_type": "code",
   "execution_count": 101,
   "id": "e83b9dc5-79d5-4044-8c8e-5fa7a5c94cf4",
   "metadata": {},
   "outputs": [
    {
     "data": {
      "image/png": "[encoded data removed]",
      "text/plain": [
       "<Figure size 600x300 with 1 Axes>"
      ]
     },
     "metadata": {},
     "output_type": "display_data"
    }
   ],
   "source": [
    "x = [24, 48, 96, 144]\n",
    "y = [\n",
    "    sum((df_mcts_24['Time (s)'] / df_mcts_24['Iterations']).values) / ITERATION_COUNT,\n",
    "    sum((df_mcts_48['Time (s)'] / df_mcts_48['Iterations']).values) / ITERATION_COUNT,\n",
    "    sum((df_mcts_96['Time (s)'] / df_mcts_96['Iterations']).values) / ITERATION_COUNT,\n",
    "    sum((df_mcts_144['Time (s)'] / df_mcts_144['Iterations']).values) / ITERATION_COUNT,    \n",
    "]\n",
    "\n",
    "line_plot(x, y)"
   ]
  },
  {
   "cell_type": "markdown",
   "id": "c75d0035-1bad-4ec8-8315-586203856acf",
   "metadata": {},
   "source": [
    "# Avg time (s) to win"
   ]
  },
  {
   "cell_type": "code",
   "execution_count": 102,
   "id": "e65454fc-351a-4530-bf23-4e29a9338e9c",
   "metadata": {},
   "outputs": [
    {
     "data": {
      "text/plain": [
       "(nan, np.float64(13.8077), nan, np.float64(489.5878666666667))"
      ]
     },
     "execution_count": 102,
     "metadata": {},
     "output_type": "execute_result"
    }
   ],
   "source": [
    "(\n",
    "    won(df_expectimax_2)['Time (s)'].mean(),\n",
    "    won(df_expectimax_3)['Time (s)'].mean(),\n",
    "    won(df_expectimax_4)['Time (s)'].mean(),\n",
    "    won(df_expectimax_5)['Time (s)'].mean(),    \n",
    ")"
   ]
  },
  {
   "cell_type": "code",
   "execution_count": 103,
   "id": "d185522a-3dcb-4e78-9484-accb6d191708",
   "metadata": {},
   "outputs": [
    {
     "data": {
      "text/plain": [
       "(nan,\n",
       " np.float64(85.76943333333334),\n",
       " np.float64(171.32769333333331),\n",
       " np.float64(286.75197142857144))"
      ]
     },
     "execution_count": 103,
     "metadata": {},
     "output_type": "execute_result"
    }
   ],
   "source": [
    "(\n",
    "    won(df_mcts_24)['Time (s)'].mean(),    \n",
    "    won(df_mcts_48)['Time (s)'].mean(),\n",
    "    won(df_mcts_96)['Time (s)'].mean(),\n",
    "    won(df_mcts_144)['Time (s)'].mean()\n",
    ")"
   ]
  },
  {
   "cell_type": "markdown",
   "id": "725b60c2-4c67-4bb4-97db-7e25c8fa7441",
   "metadata": {},
   "source": [
    "# Avg iterations to win"
   ]
  },
  {
   "cell_type": "code",
   "execution_count": 104,
   "id": "1eff8969-3345-417a-a254-877661ae66b8",
   "metadata": {},
   "outputs": [
    {
     "data": {
      "text/plain": [
       "(nan, np.float64(1413.0), nan, np.float64(1249.6666666666667))"
      ]
     },
     "execution_count": 104,
     "metadata": {},
     "output_type": "execute_result"
    }
   ],
   "source": [
    "(\n",
    "    won(df_expectimax_2)['Iterations'].mean(),\n",
    "    won(df_expectimax_3)['Iterations'].mean(),\n",
    "    won(df_expectimax_4)['Iterations'].mean(),    \n",
    "    won(df_expectimax_5)['Iterations'].mean()\n",
    ")"
   ]
  },
  {
   "cell_type": "code",
   "execution_count": 105,
   "id": "1e447e2e-30da-42c3-8b38-413889d96b62",
   "metadata": {},
   "outputs": [
    {
     "data": {
      "text/plain": [
       "(nan,\n",
       " np.float64(1340.0),\n",
       " np.float64(1293.7333333333333),\n",
       " np.float64(1415.857142857143))"
      ]
     },
     "execution_count": 105,
     "metadata": {},
     "output_type": "execute_result"
    }
   ],
   "source": [
    "(\n",
    "    won(df_mcts_24)['Iterations'].mean(),    \n",
    "    won(df_mcts_48)['Iterations'].mean(),\n",
    "    won(df_mcts_96)['Iterations'].mean(),\n",
    "    won(df_mcts_144)['Iterations'].mean()\n",
    ")"
   ]
  },
  {
   "cell_type": "code",
   "execution_count": 106,
   "id": "4e4f4a4b-e280-42ad-a7ef-0a5bcb5e5bf2",
   "metadata": {},
   "outputs": [],
   "source": [
    "x = [24, 48, 96, 144]\n",
    "y = [\n",
    "    won(df_mcts_24)['Iterations'].mean(),\n",
    "    won(df_mcts_48)['Iterations'].mean(),\n",
    "    won(df_mcts_96)['Iterations'].mean(),\n",
    "    won(df_mcts_144)['Iterations'].mean()\n",
    "]"
   ]
  },
  {
   "cell_type": "markdown",
   "id": "5dd064f2-d4c0-45f3-9971-da96d31650e7",
   "metadata": {},
   "source": [
    "# Avg max tiles"
   ]
  },
  {
   "cell_type": "code",
   "execution_count": 107,
   "id": "c158f20e-c851-447c-8a03-fdee9aa2fc3f",
   "metadata": {},
   "outputs": [
    {
     "data": {
      "text/plain": [
       "np.float64(108.88)"
      ]
     },
     "execution_count": 107,
     "metadata": {},
     "output_type": "execute_result"
    }
   ],
   "source": [
    "df_random['Max Tile'].mean()"
   ]
  },
  {
   "cell_type": "code",
   "execution_count": 108,
   "id": "07a68d68-6c66-4bcd-a2d0-2cf296c894cc",
   "metadata": {},
   "outputs": [
    {
     "data": {
      "text/plain": [
       "(np.float64(444.8), np.float64(662.4), np.float64(571.52), np.float64(786.56))"
      ]
     },
     "execution_count": 108,
     "metadata": {},
     "output_type": "execute_result"
    }
   ],
   "source": [
    "(\n",
    "    df_expectimax_2['Max Tile'].mean(),\n",
    "    df_expectimax_3['Max Tile'].mean(),\n",
    "    df_expectimax_4['Max Tile'].mean(),\n",
    "    df_expectimax_5['Max Tile'].mean(),    \n",
    ")"
   ]
  },
  {
   "cell_type": "code",
   "execution_count": 109,
   "id": "a2686281-96c2-4de4-b844-3dd3db1a7458",
   "metadata": {},
   "outputs": [
    {
     "data": {
      "image/png": "[encoded data removed]",
      "text/plain": [
       "<Figure size 600x300 with 1 Axes>"
      ]
     },
     "metadata": {},
     "output_type": "display_data"
    }
   ],
   "source": [
    "x = [2, 3, 4, 5]\n",
    "y = [\n",
    "    df_expectimax_2['Max Tile'].mean(),\n",
    "    df_expectimax_3['Max Tile'].mean(),\n",
    "    df_expectimax_4['Max Tile'].mean(),\n",
    "    df_expectimax_5['Max Tile'].mean(),    \n",
    "]\n",
    "\n",
    "line_plot(x, y)"
   ]
  },
  {
   "cell_type": "code",
   "execution_count": 110,
   "id": "83a53c7f-cb61-4359-8698-cbeb7d0a0362",
   "metadata": {},
   "outputs": [
    {
     "data": {
      "text/plain": [
       "(np.float64(602.24),\n",
       " np.float64(724.48),\n",
       " np.float64(869.76),\n",
       " np.float64(880.32))"
      ]
     },
     "execution_count": 110,
     "metadata": {},
     "output_type": "execute_result"
    }
   ],
   "source": [
    "(\n",
    "    df_mcts_24['Max Tile'].mean(),\n",
    "    df_mcts_48['Max Tile'].mean(),\n",
    "    df_mcts_96['Max Tile'].mean(),\n",
    "    df_mcts_144['Max Tile'].mean(),    \n",
    ")"
   ]
  },
  {
   "cell_type": "code",
   "execution_count": 111,
   "id": "4f4e1ea1-b8b5-4cc2-a424-eb95c010d8fc",
   "metadata": {},
   "outputs": [
    {
     "data": {
      "image/png": "[encoded data removed]",
      "text/plain": [
       "<Figure size 600x300 with 1 Axes>"
      ]
     },
     "metadata": {},
     "output_type": "display_data"
    }
   ],
   "source": [
    "x = [64, 48, 96, 144]\n",
    "y = [\n",
    "    df_mcts_24['Max Tile'].mean(),\n",
    "    df_mcts_48['Max Tile'].mean(),\n",
    "    df_mcts_96['Max Tile'].mean(),\n",
    "    df_mcts_144['Max Tile'].mean(),    \n",
    "]\n",
    "\n",
    "line_plot(x, y)"
   ]
  },
  {
   "cell_type": "code",
   "execution_count": null,
   "id": "8cb365dd-4e7f-4649-9749-edb54bb8693c",
   "metadata": {},
   "outputs": [],
   "source": []
  }
 ],
 "metadata": {
  "kernelspec": {
   "display_name": "Python 3 (ipykernel)",
   "language": "python",
   "name": "python3"
  },
  "language_info": {
   "codemirror_mode": {
    "name": "ipython",
    "version": 3
   },
   "file_extension": ".py",
   "mimetype": "text/x-python",
   "name": "python",
   "nbconvert_exporter": "python",
   "pygments_lexer": "ipython3",
   "version": "3.10.12"
  }
 },
 "nbformat": 4,
 "nbformat_minor": 5
}
