{
 "cells": [
  {
   "cell_type": "code",
   "execution_count": 29,
   "id": "a1ab07f9-264b-4040-bd0d-78350df125bd",
   "metadata": {},
   "outputs": [],
   "source": [
    "import math\n",
    "import matplotlib.pyplot as plt\n",
    "import pandas as pd"
   ]
  },
  {
   "cell_type": "code",
   "execution_count": 30,
   "id": "a7d6def5-aada-405b-9b7b-af61c11fa95a",
   "metadata": {},
   "outputs": [],
   "source": [
    "df_random = pd.read_csv('./data/results-random.csv')\n",
    "df_expectimax_2 = pd.read_csv('./data/results-expectimax-5444-2.csv')\n",
    "df_expectimax_3 = pd.read_csv('./data/results-expectimax-5444-2.csv')\n",
    "df_expectimax_4 = pd.read_csv('./data/results-expectimax-5444-2.csv')\n",
    "df_expectimax_5 = pd.read_csv('./data/results-expectimax-5444-2.csv')\n",
    "df_mcts_24 = pd.read_csv('./data/results-mcts-4440-24.csv')\n",
    "df_mcts_48 = pd.read_csv('./data/results-mcts-4440-48.csv')\n",
    "df_mcts_96 = pd.read_csv('./data/results-mcts-4440-96.csv')\n",
    "df_mcts_192 = pd.read_csv('./data/results-mcts-4440-192.csv')"
   ]
  },
  {
   "cell_type": "code",
   "execution_count": 35,
   "id": "7679fec2-21a2-4b43-90ce-7e2b659f42d9",
   "metadata": {},
   "outputs": [],
   "source": [
    "df_expectimax_eval = pd.read_csv('./data/eval-expectimax-3.csv').set_axis(['id', '0', '1', '2', '3', 'avg_max', 'max', 'avg_its', 'max_its'], axis = 1).set_index(['id'])\n",
    "df_mcts_eval = pd.read_csv('./data/eval-mcts-48.csv').set_axis(['id', '0', '1', '2', '3', 'avg_max', 'max', 'avg_its', 'max_its'], axis = 1).set_index(['id'])"
   ]
  },
  {
   "cell_type": "code",
   "execution_count": null,
   "id": "80cea196-4a0e-4d95-9fd7-add4fcd29c86",
   "metadata": {},
   "outputs": [],
   "source": []
  }
 ],
 "metadata": {
  "kernelspec": {
   "display_name": "Python 3 (ipykernel)",
   "language": "python",
   "name": "python3"
  },
  "language_info": {
   "codemirror_mode": {
    "name": "ipython",
    "version": 3
   },
   "file_extension": ".py",
   "mimetype": "text/x-python",
   "name": "python",
   "nbconvert_exporter": "python",
   "pygments_lexer": "ipython3",
   "version": "3.10.12"
  }
 },
 "nbformat": 4,
 "nbformat_minor": 5
}
