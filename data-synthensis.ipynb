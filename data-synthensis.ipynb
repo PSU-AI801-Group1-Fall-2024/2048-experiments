{
 "cells": [
  {
   "cell_type": "code",
   "execution_count": 2,
   "id": "a1ab07f9-264b-4040-bd0d-78350df125bd",
   "metadata": {},
   "outputs": [],
   "source": [
    "import math\n",
    "import matplotlib.pyplot as plt\n",
    "import pandas as pd"
   ]
  },
  {
   "cell_type": "code",
   "execution_count": 12,
   "id": "a7d6def5-aada-405b-9b7b-af61c11fa95a",
   "metadata": {},
   "outputs": [],
   "source": [
    "df_random = pd.read_csv('./data/results-random.csv')\n",
    "df_expectimax_2 = pd.read_csv('./data/results-expectimax-5444-2.csv')\n",
    "df_expectimax_3 = pd.read_csv('./data/results-expectimax-5444-2.csv')\n",
    "df_expectimax_4 = pd.read_csv('./data/results-expectimax-5444-2.csv')\n",
    "df_expectimax_5 = pd.read_csv('./data/results-expectimax-5444-2.csv')\n",
    "df_mcts_24 = pd.read_csv('./data/results-mcts-4440-24.csv')\n",
    "df_mcts_48 = pd.read_csv('./data/results-mcts-4440-48.csv')\n",
    "df_mcts_96 = pd.read_csv('./data/results-mcts-4440-96.csv')\n",
    "df_mcts_192 = pd.read_csv('./data/results-mcts-4440-192.csv')"
   ]
  },
  {
   "cell_type": "code",
   "execution_count": null,
   "id": "7679fec2-21a2-4b43-90ce-7e2b659f42d9",
   "metadata": {},
   "outputs": [],
   "source": []
  }
 ],
 "metadata": {
  "kernelspec": {
   "display_name": "Python 3 (ipykernel)",
   "language": "python",
   "name": "python3"
  },
  "language_info": {
   "codemirror_mode": {
    "name": "ipython",
    "version": 3
   },
   "file_extension": ".py",
   "mimetype": "text/x-python",
   "name": "python",
   "nbconvert_exporter": "python",
   "pygments_lexer": "ipython3",
   "version": "3.10.12"
  }
 },
 "nbformat": 4,
 "nbformat_minor": 5
}
