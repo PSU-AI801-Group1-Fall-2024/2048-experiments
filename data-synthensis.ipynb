{
 "cells": [
  {
   "cell_type": "code",
   "execution_count": 271,
   "id": "a1ab07f9-264b-4040-bd0d-78350df125bd",
   "metadata": {},
   "outputs": [],
   "source": [
    "import math\n",
    "import matplotlib.pyplot as plt\n",
    "import matplotlib.patches as mpatches\n",
    "import pandas as pd"
   ]
  },
  {
   "cell_type": "code",
   "execution_count": 272,
   "id": "81f567f1-e403-4ff7-ad68-043795ffe195",
   "metadata": {},
   "outputs": [],
   "source": [
    "ITERATION_COUNT = 200.0"
   ]
  },
  {
   "cell_type": "code",
   "execution_count": 273,
   "id": "65337182-68c7-4a1e-a3b9-6a8ec8a87e77",
   "metadata": {},
   "outputs": [],
   "source": [
    "color_psu_nittany_navy = '#001e44'\n",
    "color_psu_beaver_blue = '#1e407c'\n",
    "color_psu_pugh_blue = '#96bee6'\n",
    "\n",
    "color_psu_white_out = '#ffffff'"
   ]
  },
  {
   "cell_type": "code",
   "execution_count": 274,
   "id": "1ca865dc-5d3a-4a0d-8043-07133ff2a3bf",
   "metadata": {},
   "outputs": [],
   "source": [
    "def won(df):\n",
    "    return df[df['Max Tile'] > 1024]"
   ]
  },
  {
   "cell_type": "markdown",
   "id": "5d3b6ad0-dd2d-4c50-a2ad-a6beeb589cef",
   "metadata": {},
   "source": [
    "# Plotting"
   ]
  },
  {
   "cell_type": "code",
   "execution_count": 275,
   "id": "db6ecca1-930f-416e-9b10-581ffe96d3ac",
   "metadata": {},
   "outputs": [],
   "source": [
    "def line_plot(x, y, color = color_psu_beaver_blue):\n",
    "    xs = [str(xi) for xi in x]\n",
    "    fig, ax1 = plt.subplots()\n",
    "    fig.set_figwidth(6)\n",
    "    fig.set_figheight(3)\n",
    "    \n",
    "    l1 = ax1.plot(xs, y, color = color, linewidth = 5)\n",
    "\n",
    "    plt.tick_params(axis='y', colors='dimgrey')\n",
    "    plt.tick_params(axis='x', colors='dimgrey')\n",
    "\n",
    "    for pos in ['right', 'top', 'left']:\n",
    "        plt.gca().spines[pos].set_visible(False)\n",
    "        \n",
    "    plt.grid(axis = 'y', color = 'lightgrey')\n",
    "    plt.show()"
   ]
  },
  {
   "cell_type": "code",
   "execution_count": 324,
   "id": "4b13ffad-02e4-4be1-b139-2c29f6d3fb41",
   "metadata": {},
   "outputs": [],
   "source": [
    "def bar_chart(x, y):\n",
    "    fig, ax1 = plt.subplots()\n",
    "    fig.set_figwidth(4)\n",
    "    fig.set_figheight(3)\n",
    "\n",
    "    colors = [\n",
    "        color_psu_pugh_blue,        \n",
    "        color_psu_beaver_blue,\n",
    "        color_psu_nittany_navy,        \n",
    "    ]\n",
    "\n",
    "    for pos in ['right', 'top', 'left']:\n",
    "        plt.gca().spines[pos].set_visible(False)\n",
    "    \n",
    "    for i in range(0, len(y)):\n",
    "        yi = y[i]\n",
    "        ax1.bar(i * 1, yi, color = colors[i])\n",
    "\n",
    "    xticks = [i * 1 for i in range(0, len(x))]\n",
    "    ax1.set_xticks(xticks, x)\n",
    "\n",
    "    plt.grid(axis = 'y', color = 'lightgrey')\n",
    "    plt.show()"
   ]
  },
  {
   "cell_type": "code",
   "execution_count": 317,
   "id": "e1010c92-43dd-4580-a36a-a2d6ccbbf9d4",
   "metadata": {},
   "outputs": [],
   "source": [
    "def grouped_bar_chart(x_groups, y_groups, group_labels, yticks = None):\n",
    "    fig, ax1 = plt.subplots()\n",
    "    fig.set_figwidth(8)\n",
    "    fig.set_figheight(4)\n",
    "\n",
    "    colors = [\n",
    "        color_psu_white_out,\n",
    "        color_psu_pugh_blue,        \n",
    "        color_psu_beaver_blue,\n",
    "    ]\n",
    "\n",
    "    for pos in ['right', 'top', 'left']:\n",
    "        plt.gca().spines[pos].set_visible(False)\n",
    "    \n",
    "    k = 0\n",
    "    xticks = []\n",
    "    legends = []\n",
    "    \n",
    "    for i in range(0, len(y_groups)):\n",
    "        y_group = y_groups[i]\n",
    "        legends.append(\n",
    "            mpatches.Patch(color = colors[i], label = group_labels[i])\n",
    "        )\n",
    "        \n",
    "        for j in range(0, len(y_group)):\n",
    "            yj = y_group[j]\n",
    "            ax1.bar(k * 1, yj, color = colors[i])\n",
    "            xticks.append(x_groups[i][j])\n",
    "            k += 1\n",
    "\n",
    "        if i < len(y_groups) - 1:\n",
    "            ax1.bar(k * 1, 0, color = 'white')\n",
    "            xticks.append(\"\")\n",
    " \n",
    "        k += 1\n",
    "\n",
    "    ax1.set_xticks([i * 1 for i in range(0, len(xticks))], xticks)\n",
    "    \n",
    "    if not yticks is None:\n",
    "        ax1.set_yticks(yticks)\n",
    "\n",
    "    plt.legend(handles = legends)\n",
    "    \n",
    "    plt.grid(axis = 'y', color = 'lightgrey')\n",
    "    plt.show()"
   ]
  },
  {
   "cell_type": "markdown",
   "id": "c2593774-61f6-4751-85ec-658192b557b5",
   "metadata": {},
   "source": [
    "# Data Load"
   ]
  },
  {
   "cell_type": "code",
   "execution_count": 278,
   "id": "a7d6def5-aada-405b-9b7b-af61c11fa95a",
   "metadata": {},
   "outputs": [],
   "source": [
    "df_random = pd.read_csv('./data/results-random.csv')\n",
    "df_expectimax_2 = pd.read_csv('./data/results-expectimax-5444-2.csv')\n",
    "df_expectimax_3 = pd.read_csv('./data/results-expectimax-5444-3.csv')\n",
    "df_expectimax_4 = pd.read_csv('./data/results-expectimax-5444-4.csv')\n",
    "df_expectimax_5 = pd.read_csv('./data/results-expectimax-5444-5.csv')\n",
    "df_mcts_24 = pd.read_csv('./data/results-mcts-4440-24.csv')\n",
    "df_mcts_48 = pd.read_csv('./data/results-mcts-4440-48.csv')\n",
    "df_mcts_96 = pd.read_csv('./data/results-mcts-4440-96.csv')\n",
    "df_mcts_192 = pd.read_csv('./data/results-mcts-4440-192.csv')"
   ]
  },
  {
   "cell_type": "code",
   "execution_count": 279,
   "id": "7679fec2-21a2-4b43-90ce-7e2b659f42d9",
   "metadata": {},
   "outputs": [],
   "source": [
    "df_expectimax_eval = pd.read_csv('./data/eval-expectimax-3.csv').set_axis(['id', '0', '1', '2', '3', 'avg_max', 'max', 'avg_its', 'max_its'], axis = 1).set_index(['id'])\n",
    "df_mcts_eval = pd.read_csv('./data/eval-mcts-48.csv').set_axis(['id', '0', '1', '2', '3', 'avg_max', 'max', 'avg_its', 'max_its'], axis = 1).set_index(['id'])"
   ]
  },
  {
   "cell_type": "markdown",
   "id": "f0dfa46d-00ce-4a0c-8624-8b5d10d23fae",
   "metadata": {},
   "source": [
    "# Overall performance"
   ]
  },
  {
   "cell_type": "code",
   "execution_count": 323,
   "id": "115b67f5-1262-400e-9e37-a3b3e299eb6a",
   "metadata": {},
   "outputs": [
    {
     "data": {
      "image/png": "[encoded data removed]",
      "text/plain": [
       "<Figure size 800x400 with 1 Axes>"
      ]
     },
     "metadata": {},
     "output_type": "display_data"
    }
   ],
   "source": [
    "grouped_bar_chart([[\"Random\"], [\"3\", \"4\", \"5\"], [\"48\", \"96\", \"192\"]], [[0], [\n",
    "        won(df_expectimax_3).count()['Max Tile'],    \n",
    "        won(df_expectimax_4).count()['Max Tile'],    \n",
    "        won(df_expectimax_5).count()['Max Tile'],    \n",
    "    ], [\n",
    "        won(df_mcts_48).count()['Max Tile'],    \n",
    "        won(df_mcts_96).count()['Max Tile'],    \n",
    "        won(df_mcts_192).count()['Max Tile'],   \n",
    "    ]],\n",
    "  [\"Random\", \"Expectimax\", \"MCTS\"], [i for i in range(0, 24, 2)]\n",
    " )"
   ]
  },
  {
   "cell_type": "markdown",
   "id": "87eeef55-69f0-4ee6-a95c-3c8049eab6ce",
   "metadata": {},
   "source": [
    "# Evaluation Function Fitting"
   ]
  },
  {
   "cell_type": "markdown",
   "id": "2921e77c-5315-4379-b403-6ceb22f062d5",
   "metadata": {},
   "source": [
    "## Number of functions that won"
   ]
  },
  {
   "cell_type": "code",
   "execution_count": 281,
   "id": "80cea196-4a0e-4d95-9fd7-add4fcd29c86",
   "metadata": {},
   "outputs": [
    {
     "data": {
      "text/plain": [
       "np.int64(5)"
      ]
     },
     "execution_count": 281,
     "metadata": {},
     "output_type": "execute_result"
    }
   ],
   "source": [
    "df_expectimax_eval[df_expectimax_eval['max'] > 1024].count()['0']"
   ]
  },
  {
   "cell_type": "code",
   "execution_count": 282,
   "id": "b9b5eaa9-3610-4562-a54e-60a54b919330",
   "metadata": {},
   "outputs": [
    {
     "data": {
      "text/plain": [
       "np.int64(15)"
      ]
     },
     "execution_count": 282,
     "metadata": {},
     "output_type": "execute_result"
    }
   ],
   "source": [
    "df_mcts_eval[df_mcts_eval['max'] > 1024].count()['0']"
   ]
  },
  {
   "cell_type": "code",
   "execution_count": 325,
   "id": "9a113354-d6cc-4016-ae63-ff5971664fb3",
   "metadata": {},
   "outputs": [
    {
     "data": {
      "image/png": "[encoded data removed]",
      "text/plain": [
       "<Figure size 400x300 with 1 Axes>"
      ]
     },
     "metadata": {},
     "output_type": "display_data"
    }
   ],
   "source": [
    "bar_chart([\"Expectimax\", \"MCTS\"], [\n",
    "    df_expectimax_eval[df_expectimax_eval['max'] > 1024].count()['0'],\n",
    "    df_mcts_eval[df_mcts_eval['max'] > 1024].count()['0']\n",
    "])"
   ]
  },
  {
   "cell_type": "markdown",
   "id": "35bf3ea7-8a80-47a1-99c6-36cebd7478ab",
   "metadata": {},
   "source": [
    "## Best function powers of 2\n",
    "\n",
    "As defined by achieving the mighest average number of iterations"
   ]
  },
  {
   "cell_type": "code",
   "execution_count": 284,
   "id": "416b4be8-2b89-4a29-a62c-e4b6518f2e99",
   "metadata": {},
   "outputs": [
    {
     "data": {
      "text/plain": [
       "0             5.000000\n",
       "1             4.000000\n",
       "2             4.000000\n",
       "3             4.000000\n",
       "avg_max     938.666667\n",
       "max        1024.000000\n",
       "avg_its     278.625000\n",
       "max_its     911.000000\n",
       "Name: 1037, dtype: float64"
      ]
     },
     "execution_count": 284,
     "metadata": {},
     "output_type": "execute_result"
    }
   ],
   "source": [
    "df_expectimax_eval.sort_values(['avg_its'], ascending = False).iloc[0]"
   ]
  },
  {
   "cell_type": "code",
   "execution_count": 285,
   "id": "779efaff-ad6a-444a-a99c-f5f8dc64ffa2",
   "metadata": {},
   "outputs": [
    {
     "data": {
      "text/plain": [
       "0             4.000000\n",
       "1             4.000000\n",
       "2             4.000000\n",
       "3             0.000000\n",
       "avg_max    1109.333333\n",
       "max        2048.000000\n",
       "avg_its     351.250000\n",
       "max_its    1674.000000\n",
       "Name: 1032, dtype: float64"
      ]
     },
     "execution_count": 285,
     "metadata": {},
     "output_type": "execute_result"
    }
   ],
   "source": [
    "df_mcts_eval.sort_values(['avg_its'], ascending = False).iloc[0]"
   ]
  },
  {
   "cell_type": "markdown",
   "id": "e8157f32-8418-4d05-8e28-c559a8fadb4f",
   "metadata": {},
   "source": [
    "# Wins"
   ]
  },
  {
   "cell_type": "code",
   "execution_count": 286,
   "id": "1c4a59b9-d39d-4414-be10-f4fb557d1409",
   "metadata": {},
   "outputs": [
    {
     "data": {
      "text/plain": [
       "np.int64(0)"
      ]
     },
     "execution_count": 286,
     "metadata": {},
     "output_type": "execute_result"
    }
   ],
   "source": [
    "won(df_random).count()['Max Tile']"
   ]
  },
  {
   "cell_type": "code",
   "execution_count": 287,
   "id": "42bfc811-c6ed-4845-b6fc-9286cfd47fd4",
   "metadata": {},
   "outputs": [
    {
     "data": {
      "text/plain": [
       "(np.int64(0), np.int64(1), np.int64(1), np.int64(3))"
      ]
     },
     "execution_count": 287,
     "metadata": {},
     "output_type": "execute_result"
    }
   ],
   "source": [
    "(\t\n",
    "    won(df_expectimax_2).count()['Max Tile'],    \n",
    "    won(df_expectimax_3).count()['Max Tile'],    \n",
    "    won(df_expectimax_4).count()['Max Tile'],    \n",
    "    won(df_expectimax_5).count()['Max Tile'],    \n",
    "    \n",
    ")"
   ]
  },
  {
   "cell_type": "code",
   "execution_count": 288,
   "id": "e6d55eb5-652b-4e8b-9516-63611af07aae",
   "metadata": {},
   "outputs": [
    {
     "data": {
      "image/png": "[encoded data removed]",
      "text/plain": [
       "<Figure size 600x300 with 1 Axes>"
      ]
     },
     "metadata": {},
     "output_type": "display_data"
    }
   ],
   "source": [
    "x = [2, 3, 4, 5]\n",
    "y = [\n",
    "    won(df_expectimax_2).count()['Max Tile'],    \n",
    "    won(df_expectimax_3).count()['Max Tile'],    \n",
    "    won(df_expectimax_4).count()['Max Tile'],    \n",
    "    won(df_expectimax_5).count()['Max Tile'],   \n",
    "]\n",
    "\n",
    "line_plot(x, y, color_psu_pugh_blue)"
   ]
  },
  {
   "cell_type": "code",
   "execution_count": 289,
   "id": "2fbb76c1-d617-47b2-8019-1e2a21a54f3f",
   "metadata": {},
   "outputs": [
    {
     "data": {
      "text/plain": [
       "(np.int64(0), np.int64(3), np.int64(15), np.int64(19))"
      ]
     },
     "execution_count": 289,
     "metadata": {},
     "output_type": "execute_result"
    }
   ],
   "source": [
    "(\t\n",
    "    won(df_mcts_24).count()['Max Tile'],\n",
    "    won(df_mcts_48).count()['Max Tile'],\n",
    "    won(df_mcts_96).count()['Max Tile'],    \n",
    "    won(df_mcts_192).count()['Max Tile'],    \n",
    ")"
   ]
  },
  {
   "cell_type": "code",
   "execution_count": 290,
   "id": "0fa5aefa-dc5a-4c3c-88a5-67e6c830d5bf",
   "metadata": {},
   "outputs": [
    {
     "data": {
      "image/png": "[encoded data removed]",
      "text/plain": [
       "<Figure size 600x300 with 1 Axes>"
      ]
     },
     "metadata": {},
     "output_type": "display_data"
    }
   ],
   "source": [
    "x = [24, 48, 96, 192]\n",
    "y = [\n",
    "    won(df_mcts_24).count()['Max Tile'],    \n",
    "    won(df_mcts_48).count()['Max Tile'],    \n",
    "    won(df_mcts_96).count()['Max Tile'],    \n",
    "    won(df_mcts_192).count()['Max Tile'],   \n",
    "]\n",
    "\n",
    "line_plot(x, y)"
   ]
  },
  {
   "cell_type": "markdown",
   "id": "1a56e8e6-8c0d-4560-ada5-25e9ac2862b2",
   "metadata": {},
   "source": [
    "# Avg iterations"
   ]
  },
  {
   "cell_type": "code",
   "execution_count": 291,
   "id": "535c331b-15ce-4141-a1ea-11bbe5b59577",
   "metadata": {},
   "outputs": [
    {
     "data": {
      "text/plain": [
       "np.float64(119.055)"
      ]
     },
     "execution_count": 291,
     "metadata": {},
     "output_type": "execute_result"
    }
   ],
   "source": [
    "df_random['Iterations'].mean()"
   ]
  },
  {
   "cell_type": "code",
   "execution_count": 292,
   "id": "817d199c-04f5-41a8-8733-60fd7bf509d0",
   "metadata": {},
   "outputs": [
    {
     "data": {
      "text/plain": [
       "(np.float64(388.03),\n",
       " np.float64(547.18),\n",
       " np.float64(465.55),\n",
       " np.float64(630.165))"
      ]
     },
     "execution_count": 292,
     "metadata": {},
     "output_type": "execute_result"
    }
   ],
   "source": [
    "(\n",
    "    df_expectimax_2['Iterations'].mean(),\n",
    "    df_expectimax_3['Iterations'].mean(),\n",
    "    df_expectimax_4['Iterations'].mean(),\n",
    "    df_expectimax_5['Iterations'].mean(),\n",
    ")"
   ]
  },
  {
   "cell_type": "code",
   "execution_count": 293,
   "id": "d92c3aca-aebf-4170-b63e-bc18b1059767",
   "metadata": {},
   "outputs": [
    {
     "data": {
      "image/png": "[encoded data removed]",
      "text/plain": [
       "<Figure size 600x300 with 1 Axes>"
      ]
     },
     "metadata": {},
     "output_type": "display_data"
    }
   ],
   "source": [
    "x = [2, 3, 4, 5]\n",
    "y = [\n",
    "    df_expectimax_2['Iterations'].mean(),\n",
    "    df_expectimax_3['Iterations'].mean(),\n",
    "    df_expectimax_4['Iterations'].mean(),\n",
    "    df_expectimax_5['Iterations'].mean(), \n",
    "]\n",
    "\n",
    "line_plot(x, y, color_psu_pugh_blue)"
   ]
  },
  {
   "cell_type": "code",
   "execution_count": 294,
   "id": "57c1e518-c431-4ab6-98c3-8badc171b2f7",
   "metadata": {},
   "outputs": [
    {
     "data": {
      "text/plain": [
       "(np.float64(489.45),\n",
       " np.float64(601.735),\n",
       " np.float64(694.93),\n",
       " np.float64(766.7))"
      ]
     },
     "execution_count": 294,
     "metadata": {},
     "output_type": "execute_result"
    }
   ],
   "source": [
    "(\n",
    "    df_mcts_24['Iterations'].mean(),\n",
    "    df_mcts_48['Iterations'].mean(),\n",
    "    df_mcts_96['Iterations'].mean(),\n",
    "    df_mcts_192['Iterations'].mean(),   \n",
    ")"
   ]
  },
  {
   "cell_type": "code",
   "execution_count": 295,
   "id": "2f83c39a-574d-4973-975d-97f47d555884",
   "metadata": {},
   "outputs": [
    {
     "data": {
      "image/png": "[encoded data removed]",
      "text/plain": [
       "<Figure size 600x300 with 1 Axes>"
      ]
     },
     "metadata": {},
     "output_type": "display_data"
    }
   ],
   "source": [
    "x = [24, 48, 96, 192]\n",
    "y = [\n",
    "    df_mcts_24['Iterations'].mean(),\n",
    "    df_mcts_48['Iterations'].mean(),\n",
    "    df_mcts_96['Iterations'].mean(),\n",
    "    df_mcts_192['Iterations'].mean(),\n",
    "]\n",
    "\n",
    "line_plot(x, y)"
   ]
  },
  {
   "cell_type": "markdown",
   "id": "ee53f3ac-4df0-4b46-9408-a3257f64b742",
   "metadata": {},
   "source": [
    "# Avg time (s) per iteration"
   ]
  },
  {
   "cell_type": "code",
   "execution_count": 296,
   "id": "34ac3ee5-6d98-4a04-99bf-cb9d8e35c8da",
   "metadata": {},
   "outputs": [
    {
     "data": {
      "text/plain": [
       "(np.float64(0.0010976360799154002),\n",
       " np.float64(0.011309717347326775),\n",
       " np.float64(0.050585299867260874),\n",
       " np.float64(0.524632865478692))"
      ]
     },
     "execution_count": 296,
     "metadata": {},
     "output_type": "execute_result"
    }
   ],
   "source": [
    "(\n",
    "    sum((df_expectimax_2['Time (s)'] / df_expectimax_2['Iterations']).values) / ITERATION_COUNT,\n",
    "    sum((df_expectimax_3['Time (s)'] / df_expectimax_3['Iterations']).values) / ITERATION_COUNT,\n",
    "    sum((df_expectimax_4['Time (s)'] / df_expectimax_4['Iterations']).values) / ITERATION_COUNT,\n",
    "    sum((df_expectimax_5['Time (s)'] / df_expectimax_5['Iterations']).values) / ITERATION_COUNT,    \n",
    ")   "
   ]
  },
  {
   "cell_type": "code",
   "execution_count": 297,
   "id": "dcc153f8-b987-42ca-bfa6-d93629fac116",
   "metadata": {},
   "outputs": [
    {
     "data": {
      "image/png": "[encoded data removed]",
      "text/plain": [
       "<Figure size 600x300 with 1 Axes>"
      ]
     },
     "metadata": {},
     "output_type": "display_data"
    }
   ],
   "source": [
    "x = [2, 3, 4, 5]\n",
    "y = [\n",
    "    sum((df_expectimax_2['Time (s)'] / df_expectimax_2['Iterations']).values) / ITERATION_COUNT,\n",
    "    sum((df_expectimax_3['Time (s)'] / df_expectimax_3['Iterations']).values) / ITERATION_COUNT,\n",
    "    sum((df_expectimax_4['Time (s)'] / df_expectimax_4['Iterations']).values) / ITERATION_COUNT,\n",
    "    sum((df_expectimax_5['Time (s)'] / df_expectimax_5['Iterations']).values) / ITERATION_COUNT,   \n",
    "]\n",
    "\n",
    "line_plot(x, y, color_psu_pugh_blue)"
   ]
  },
  {
   "cell_type": "code",
   "execution_count": 298,
   "id": "e9d697f4-3051-4ae0-8b4b-de64d3f1ac5d",
   "metadata": {},
   "outputs": [
    {
     "data": {
      "text/plain": [
       "(np.float64(0.03755861461590695),\n",
       " np.float64(0.07479495816703109),\n",
       " np.float64(0.1499709580132559),\n",
       " np.float64(0.3070649595937428))"
      ]
     },
     "execution_count": 298,
     "metadata": {},
     "output_type": "execute_result"
    }
   ],
   "source": [
    "(\n",
    "    sum((df_mcts_24['Time (s)'] / df_mcts_24['Iterations']).values) / ITERATION_COUNT,\n",
    "    sum((df_mcts_48['Time (s)'] / df_mcts_48['Iterations']).values) / ITERATION_COUNT,\n",
    "    sum((df_mcts_96['Time (s)'] / df_mcts_96['Iterations']).values) / ITERATION_COUNT,\n",
    "    sum((df_mcts_192['Time (s)'] / df_mcts_192['Iterations']).values) / ITERATION_COUNT,    \n",
    ")   "
   ]
  },
  {
   "cell_type": "code",
   "execution_count": 299,
   "id": "e83b9dc5-79d5-4044-8c8e-5fa7a5c94cf4",
   "metadata": {},
   "outputs": [
    {
     "data": {
      "image/png": "[encoded data removed]",
      "text/plain": [
       "<Figure size 600x300 with 1 Axes>"
      ]
     },
     "metadata": {},
     "output_type": "display_data"
    }
   ],
   "source": [
    "x = [24, 48, 96, 192]\n",
    "y = [\n",
    "    sum((df_mcts_24['Time (s)'] / df_mcts_24['Iterations']).values) / ITERATION_COUNT,\n",
    "    sum((df_mcts_48['Time (s)'] / df_mcts_48['Iterations']).values) / ITERATION_COUNT,\n",
    "    sum((df_mcts_96['Time (s)'] / df_mcts_96['Iterations']).values) / ITERATION_COUNT,\n",
    "    sum((df_mcts_192['Time (s)'] / df_mcts_192['Iterations']).values) / ITERATION_COUNT,    \n",
    "]\n",
    "\n",
    "line_plot(x, y)"
   ]
  },
  {
   "cell_type": "markdown",
   "id": "c75d0035-1bad-4ec8-8315-586203856acf",
   "metadata": {},
   "source": [
    "# Avg time (s) to win"
   ]
  },
  {
   "cell_type": "code",
   "execution_count": 300,
   "id": "e65454fc-351a-4530-bf23-4e29a9338e9c",
   "metadata": {},
   "outputs": [
    {
     "data": {
      "text/plain": [
       "(nan, np.float64(13.8077), np.float64(51.9606), np.float64(489.5878666666667))"
      ]
     },
     "execution_count": 300,
     "metadata": {},
     "output_type": "execute_result"
    }
   ],
   "source": [
    "(\n",
    "    won(df_expectimax_2)['Time (s)'].mean(),\n",
    "    won(df_expectimax_3)['Time (s)'].mean(),\n",
    "    won(df_expectimax_4)['Time (s)'].mean(),\n",
    "    won(df_expectimax_5)['Time (s)'].mean(),    \n",
    ")"
   ]
  },
  {
   "cell_type": "code",
   "execution_count": 301,
   "id": "d7e4a1e9-5b65-43f4-ad68-630fd854b0c7",
   "metadata": {},
   "outputs": [
    {
     "data": {
      "image/png": "[encoded data removed]",
      "text/plain": [
       "<Figure size 600x300 with 1 Axes>"
      ]
     },
     "metadata": {},
     "output_type": "display_data"
    }
   ],
   "source": [
    "x = [2, 3, 4, 5]\n",
    "y = [\n",
    "    won(df_expectimax_2)['Time (s)'].mean(),\n",
    "    won(df_expectimax_3)['Time (s)'].mean(),\n",
    "    won(df_expectimax_4)['Time (s)'].mean(),\n",
    "    won(df_expectimax_5)['Time (s)'].mean(),    \n",
    "]\n",
    "\n",
    "line_plot(x, y, color_psu_pugh_blue)"
   ]
  },
  {
   "cell_type": "code",
   "execution_count": 302,
   "id": "d185522a-3dcb-4e78-9484-accb6d191708",
   "metadata": {},
   "outputs": [
    {
     "data": {
      "text/plain": [
       "(nan,\n",
       " np.float64(85.76943333333334),\n",
       " np.float64(171.32769333333331),\n",
       " np.float64(386.1465105263158))"
      ]
     },
     "execution_count": 302,
     "metadata": {},
     "output_type": "execute_result"
    }
   ],
   "source": [
    "(\n",
    "    won(df_mcts_24)['Time (s)'].mean(),    \n",
    "    won(df_mcts_48)['Time (s)'].mean(),\n",
    "    won(df_mcts_96)['Time (s)'].mean(),\n",
    "    won(df_mcts_192)['Time (s)'].mean()\n",
    ")"
   ]
  },
  {
   "cell_type": "code",
   "execution_count": 303,
   "id": "faaec422-d290-4d34-80d3-9fb4916f10c0",
   "metadata": {},
   "outputs": [
    {
     "data": {
      "image/png": "[encoded data removed]",
      "text/plain": [
       "<Figure size 600x300 with 1 Axes>"
      ]
     },
     "metadata": {},
     "output_type": "display_data"
    }
   ],
   "source": [
    "x = [24, 48, 96, 192]\n",
    "y = [\n",
    "    won(df_mcts_24)['Time (s)'].mean(),    \n",
    "    won(df_mcts_48)['Time (s)'].mean(),\n",
    "    won(df_mcts_96)['Time (s)'].mean(),\n",
    "    won(df_mcts_192)['Time (s)'].mean()\n",
    "]\n",
    "\n",
    "line_plot(x, y)"
   ]
  },
  {
   "cell_type": "markdown",
   "id": "725b60c2-4c67-4bb4-97db-7e25c8fa7441",
   "metadata": {},
   "source": [
    "# Avg iterations to win"
   ]
  },
  {
   "cell_type": "code",
   "execution_count": 304,
   "id": "1eff8969-3345-417a-a254-877661ae66b8",
   "metadata": {},
   "outputs": [
    {
     "data": {
      "text/plain": [
       "(nan, np.float64(1413.0), np.float64(1397.0), np.float64(1249.6666666666667))"
      ]
     },
     "execution_count": 304,
     "metadata": {},
     "output_type": "execute_result"
    }
   ],
   "source": [
    "(\n",
    "    won(df_expectimax_2)['Iterations'].mean(),\n",
    "    won(df_expectimax_3)['Iterations'].mean(),\n",
    "    won(df_expectimax_4)['Iterations'].mean(),    \n",
    "    won(df_expectimax_5)['Iterations'].mean()\n",
    ")"
   ]
  },
  {
   "cell_type": "code",
   "execution_count": 305,
   "id": "8d4824c6-604e-46a2-bbdf-77f9fe16de6c",
   "metadata": {},
   "outputs": [
    {
     "data": {
      "image/png": "[encoded data removed]",
      "text/plain": [
       "<Figure size 600x300 with 1 Axes>"
      ]
     },
     "metadata": {},
     "output_type": "display_data"
    }
   ],
   "source": [
    "x = [2, 3, 4, 5]\n",
    "y = [\n",
    "    won(df_expectimax_2)['Iterations'].mean(),\n",
    "    won(df_expectimax_3)['Iterations'].mean(),\n",
    "    won(df_expectimax_4)['Iterations'].mean(),    \n",
    "    won(df_expectimax_5)['Iterations'].mean() \n",
    "]\n",
    "\n",
    "line_plot(x, y, color_psu_pugh_blue)"
   ]
  },
  {
   "cell_type": "code",
   "execution_count": 306,
   "id": "1e447e2e-30da-42c3-8b38-413889d96b62",
   "metadata": {},
   "outputs": [
    {
     "data": {
      "text/plain": [
       "(nan,\n",
       " np.float64(1340.0),\n",
       " np.float64(1293.7333333333333),\n",
       " np.float64(1416.157894736842))"
      ]
     },
     "execution_count": 306,
     "metadata": {},
     "output_type": "execute_result"
    }
   ],
   "source": [
    "(\n",
    "    won(df_mcts_24)['Iterations'].mean(),    \n",
    "    won(df_mcts_48)['Iterations'].mean(),\n",
    "    won(df_mcts_96)['Iterations'].mean(),\n",
    "    won(df_mcts_192)['Iterations'].mean()\n",
    ")"
   ]
  },
  {
   "cell_type": "code",
   "execution_count": 307,
   "id": "4e4f4a4b-e280-42ad-a7ef-0a5bcb5e5bf2",
   "metadata": {},
   "outputs": [
    {
     "data": {
      "image/png": "[encoded data removed]",
      "text/plain": [
       "<Figure size 600x300 with 1 Axes>"
      ]
     },
     "metadata": {},
     "output_type": "display_data"
    }
   ],
   "source": [
    "x = [24, 48, 96, 192]\n",
    "y = [\n",
    "    won(df_mcts_24)['Iterations'].mean(),    \n",
    "    won(df_mcts_48)['Iterations'].mean(),\n",
    "    won(df_mcts_96)['Iterations'].mean(),\n",
    "    won(df_mcts_192)['Iterations'].mean()\n",
    "]\n",
    "\n",
    "line_plot(x, y)"
   ]
  },
  {
   "cell_type": "markdown",
   "id": "5dd064f2-d4c0-45f3-9971-da96d31650e7",
   "metadata": {},
   "source": [
    "# Avg max tiles"
   ]
  },
  {
   "cell_type": "code",
   "execution_count": 308,
   "id": "c158f20e-c851-447c-8a03-fdee9aa2fc3f",
   "metadata": {},
   "outputs": [
    {
     "data": {
      "text/plain": [
       "np.float64(108.88)"
      ]
     },
     "execution_count": 308,
     "metadata": {},
     "output_type": "execute_result"
    }
   ],
   "source": [
    "df_random['Max Tile'].mean()"
   ]
  },
  {
   "cell_type": "code",
   "execution_count": 309,
   "id": "07a68d68-6c66-4bcd-a2d0-2cf296c894cc",
   "metadata": {},
   "outputs": [
    {
     "data": {
      "text/plain": [
       "(np.float64(444.8), np.float64(662.4), np.float64(556.16), np.float64(786.56))"
      ]
     },
     "execution_count": 309,
     "metadata": {},
     "output_type": "execute_result"
    }
   ],
   "source": [
    "(\n",
    "    df_expectimax_2['Max Tile'].mean(),\n",
    "    df_expectimax_3['Max Tile'].mean(),\n",
    "    df_expectimax_4['Max Tile'].mean(),\n",
    "    df_expectimax_5['Max Tile'].mean(),    \n",
    ")"
   ]
  },
  {
   "cell_type": "code",
   "execution_count": 310,
   "id": "a2686281-96c2-4de4-b844-3dd3db1a7458",
   "metadata": {},
   "outputs": [
    {
     "data": {
      "image/png": "[encoded data removed]",
      "text/plain": [
       "<Figure size 600x300 with 1 Axes>"
      ]
     },
     "metadata": {},
     "output_type": "display_data"
    }
   ],
   "source": [
    "x = [2, 3, 4, 5]\n",
    "y = [\n",
    "    df_expectimax_2['Max Tile'].mean(),\n",
    "    df_expectimax_3['Max Tile'].mean(),\n",
    "    df_expectimax_4['Max Tile'].mean(),\n",
    "    df_expectimax_5['Max Tile'].mean(),    \n",
    "]\n",
    "\n",
    "line_plot(x, y, color_psu_pugh_blue)"
   ]
  },
  {
   "cell_type": "code",
   "execution_count": 311,
   "id": "83a53c7f-cb61-4359-8698-cbeb7d0a0362",
   "metadata": {},
   "outputs": [
    {
     "data": {
      "text/plain": [
       "(np.float64(602.24),\n",
       " np.float64(724.48),\n",
       " np.float64(869.76),\n",
       " np.float64(924.16))"
      ]
     },
     "execution_count": 311,
     "metadata": {},
     "output_type": "execute_result"
    }
   ],
   "source": [
    "(\n",
    "    df_mcts_24['Max Tile'].mean(),\n",
    "    df_mcts_48['Max Tile'].mean(),\n",
    "    df_mcts_96['Max Tile'].mean(),\n",
    "    df_mcts_192['Max Tile'].mean(),    \n",
    ")"
   ]
  },
  {
   "cell_type": "code",
   "execution_count": 312,
   "id": "4f4e1ea1-b8b5-4cc2-a424-eb95c010d8fc",
   "metadata": {},
   "outputs": [
    {
     "data": {
      "image/png": "[encoded data removed]",
      "text/plain": [
       "<Figure size 600x300 with 1 Axes>"
      ]
     },
     "metadata": {},
     "output_type": "display_data"
    }
   ],
   "source": [
    "x = [64, 48, 96, 192]\n",
    "y = [\n",
    "    df_mcts_24['Max Tile'].mean(),\n",
    "    df_mcts_48['Max Tile'].mean(),\n",
    "    df_mcts_96['Max Tile'].mean(),\n",
    "    df_mcts_192['Max Tile'].mean(),    \n",
    "]\n",
    "\n",
    "line_plot(x, y)"
   ]
  },
  {
   "cell_type": "markdown",
   "id": "524ad68f-b4dc-4ab3-b41d-0a8af89c7cd9",
   "metadata": {},
   "source": [
    "# Scratch"
   ]
  },
  {
   "cell_type": "markdown",
   "id": "4ac28838-72d5-4ab4-95ea-e3489797bede",
   "metadata": {},
   "source": [
    "## Winning parameters durring fitting"
   ]
  },
  {
   "cell_type": "code",
   "execution_count": 334,
   "id": "8b83c325-85fa-4295-9205-f344e67277c8",
   "metadata": {},
   "outputs": [
    {
     "data": {
      "text/html": [
       "<div>\n",
       "<style scoped>\n",
       "    .dataframe tbody tr th:only-of-type {\n",
       "        vertical-align: middle;\n",
       "    }\n",
       "\n",
       "    .dataframe tbody tr th {\n",
       "        vertical-align: top;\n",
       "    }\n",
       "\n",
       "    .dataframe thead th {\n",
       "        text-align: right;\n",
       "    }\n",
       "</style>\n",
       "<table border=\"1\" class=\"dataframe\">\n",
       "  <thead>\n",
       "    <tr style=\"text-align: right;\">\n",
       "      <th></th>\n",
       "      <th>0</th>\n",
       "      <th>1</th>\n",
       "      <th>2</th>\n",
       "      <th>3</th>\n",
       "      <th>avg_max</th>\n",
       "      <th>max</th>\n",
       "      <th>avg_its</th>\n",
       "      <th>max_its</th>\n",
       "    </tr>\n",
       "    <tr>\n",
       "      <th>id</th>\n",
       "      <th></th>\n",
       "      <th></th>\n",
       "      <th></th>\n",
       "      <th></th>\n",
       "      <th></th>\n",
       "      <th></th>\n",
       "      <th></th>\n",
       "      <th></th>\n",
       "    </tr>\n",
       "  </thead>\n",
       "  <tbody>\n",
       "    <tr>\n",
       "      <th>1109</th>\n",
       "      <td>5</td>\n",
       "      <td>4</td>\n",
       "      <td>0</td>\n",
       "      <td>5</td>\n",
       "      <td>1024.000000</td>\n",
       "      <td>2048</td>\n",
       "      <td>263.9375</td>\n",
       "      <td>1111</td>\n",
       "    </tr>\n",
       "    <tr>\n",
       "      <th>1168</th>\n",
       "      <td>4</td>\n",
       "      <td>2</td>\n",
       "      <td>2</td>\n",
       "      <td>5</td>\n",
       "      <td>896.000000</td>\n",
       "      <td>2048</td>\n",
       "      <td>243.6250</td>\n",
       "      <td>1239</td>\n",
       "    </tr>\n",
       "    <tr>\n",
       "      <th>489</th>\n",
       "      <td>3</td>\n",
       "      <td>3</td>\n",
       "      <td>1</td>\n",
       "      <td>2</td>\n",
       "      <td>768.000000</td>\n",
       "      <td>2048</td>\n",
       "      <td>212.0625</td>\n",
       "      <td>1222</td>\n",
       "    </tr>\n",
       "    <tr>\n",
       "      <th>958</th>\n",
       "      <td>4</td>\n",
       "      <td>3</td>\n",
       "      <td>2</td>\n",
       "      <td>4</td>\n",
       "      <td>768.000000</td>\n",
       "      <td>2048</td>\n",
       "      <td>211.1250</td>\n",
       "      <td>1098</td>\n",
       "    </tr>\n",
       "    <tr>\n",
       "      <th>305</th>\n",
       "      <td>5</td>\n",
       "      <td>2</td>\n",
       "      <td>2</td>\n",
       "      <td>1</td>\n",
       "      <td>725.333333</td>\n",
       "      <td>2048</td>\n",
       "      <td>194.1250</td>\n",
       "      <td>1161</td>\n",
       "    </tr>\n",
       "  </tbody>\n",
       "</table>\n",
       "</div>"
      ],
      "text/plain": [
       "      0  1  2  3      avg_max   max   avg_its  max_its\n",
       "id                                                    \n",
       "1109  5  4  0  5  1024.000000  2048  263.9375     1111\n",
       "1168  4  2  2  5   896.000000  2048  243.6250     1239\n",
       "489   3  3  1  2   768.000000  2048  212.0625     1222\n",
       "958   4  3  2  4   768.000000  2048  211.1250     1098\n",
       "305   5  2  2  1   725.333333  2048  194.1250     1161"
      ]
     },
     "execution_count": 334,
     "metadata": {},
     "output_type": "execute_result"
    }
   ],
   "source": [
    "df_expectimax_eval[df_expectimax_eval['max'] > 1024].sort_values(['avg_its'], ascending=False)"
   ]
  },
  {
   "cell_type": "code",
   "execution_count": 335,
   "id": "baacb81a-4854-41b5-b6bc-a4ec3402ddb6",
   "metadata": {},
   "outputs": [
    {
     "data": {
      "text/html": [
       "<div>\n",
       "<style scoped>\n",
       "    .dataframe tbody tr th:only-of-type {\n",
       "        vertical-align: middle;\n",
       "    }\n",
       "\n",
       "    .dataframe tbody tr th {\n",
       "        vertical-align: top;\n",
       "    }\n",
       "\n",
       "    .dataframe thead th {\n",
       "        text-align: right;\n",
       "    }\n",
       "</style>\n",
       "<table border=\"1\" class=\"dataframe\">\n",
       "  <thead>\n",
       "    <tr style=\"text-align: right;\">\n",
       "      <th></th>\n",
       "      <th>0</th>\n",
       "      <th>1</th>\n",
       "      <th>2</th>\n",
       "      <th>3</th>\n",
       "      <th>avg_max</th>\n",
       "      <th>max</th>\n",
       "      <th>avg_its</th>\n",
       "      <th>max_its</th>\n",
       "    </tr>\n",
       "    <tr>\n",
       "      <th>id</th>\n",
       "      <th></th>\n",
       "      <th></th>\n",
       "      <th></th>\n",
       "      <th></th>\n",
       "      <th></th>\n",
       "      <th></th>\n",
       "      <th></th>\n",
       "      <th></th>\n",
       "    </tr>\n",
       "  </thead>\n",
       "  <tbody>\n",
       "    <tr>\n",
       "      <th>1032</th>\n",
       "      <td>4</td>\n",
       "      <td>4</td>\n",
       "      <td>4</td>\n",
       "      <td>0</td>\n",
       "      <td>1109.333333</td>\n",
       "      <td>2048</td>\n",
       "      <td>351.2500</td>\n",
       "      <td>1674</td>\n",
       "    </tr>\n",
       "    <tr>\n",
       "      <th>708</th>\n",
       "      <td>3</td>\n",
       "      <td>1</td>\n",
       "      <td>4</td>\n",
       "      <td>0</td>\n",
       "      <td>1109.333333</td>\n",
       "      <td>2048</td>\n",
       "      <td>328.5625</td>\n",
       "      <td>1420</td>\n",
       "    </tr>\n",
       "    <tr>\n",
       "      <th>1218</th>\n",
       "      <td>5</td>\n",
       "      <td>3</td>\n",
       "      <td>5</td>\n",
       "      <td>0</td>\n",
       "      <td>1024.000000</td>\n",
       "      <td>2048</td>\n",
       "      <td>313.1250</td>\n",
       "      <td>1387</td>\n",
       "    </tr>\n",
       "    <tr>\n",
       "      <th>660</th>\n",
       "      <td>3</td>\n",
       "      <td>0</td>\n",
       "      <td>2</td>\n",
       "      <td>0</td>\n",
       "      <td>1024.000000</td>\n",
       "      <td>2048</td>\n",
       "      <td>302.3125</td>\n",
       "      <td>1239</td>\n",
       "    </tr>\n",
       "    <tr>\n",
       "      <th>774</th>\n",
       "      <td>3</td>\n",
       "      <td>3</td>\n",
       "      <td>3</td>\n",
       "      <td>0</td>\n",
       "      <td>938.666667</td>\n",
       "      <td>2048</td>\n",
       "      <td>295.9375</td>\n",
       "      <td>1634</td>\n",
       "    </tr>\n",
       "    <tr>\n",
       "      <th>1164</th>\n",
       "      <td>5</td>\n",
       "      <td>2</td>\n",
       "      <td>2</td>\n",
       "      <td>0</td>\n",
       "      <td>1024.000000</td>\n",
       "      <td>2048</td>\n",
       "      <td>293.5625</td>\n",
       "      <td>1232</td>\n",
       "    </tr>\n",
       "    <tr>\n",
       "      <th>253</th>\n",
       "      <td>1</td>\n",
       "      <td>1</td>\n",
       "      <td>0</td>\n",
       "      <td>1</td>\n",
       "      <td>938.666667</td>\n",
       "      <td>2048</td>\n",
       "      <td>275.8125</td>\n",
       "      <td>1402</td>\n",
       "    </tr>\n",
       "    <tr>\n",
       "      <th>408</th>\n",
       "      <td>1</td>\n",
       "      <td>5</td>\n",
       "      <td>2</td>\n",
       "      <td>0</td>\n",
       "      <td>853.333333</td>\n",
       "      <td>2048</td>\n",
       "      <td>255.1875</td>\n",
       "      <td>1346</td>\n",
       "    </tr>\n",
       "    <tr>\n",
       "      <th>702</th>\n",
       "      <td>3</td>\n",
       "      <td>1</td>\n",
       "      <td>3</td>\n",
       "      <td>0</td>\n",
       "      <td>810.666667</td>\n",
       "      <td>2048</td>\n",
       "      <td>252.5625</td>\n",
       "      <td>1532</td>\n",
       "    </tr>\n",
       "    <tr>\n",
       "      <th>438</th>\n",
       "      <td>2</td>\n",
       "      <td>0</td>\n",
       "      <td>1</td>\n",
       "      <td>0</td>\n",
       "      <td>874.666667</td>\n",
       "      <td>2048</td>\n",
       "      <td>245.5625</td>\n",
       "      <td>1439</td>\n",
       "    </tr>\n",
       "    <tr>\n",
       "      <th>96</th>\n",
       "      <td>0</td>\n",
       "      <td>2</td>\n",
       "      <td>4</td>\n",
       "      <td>0</td>\n",
       "      <td>853.333333</td>\n",
       "      <td>2048</td>\n",
       "      <td>243.0000</td>\n",
       "      <td>1418</td>\n",
       "    </tr>\n",
       "    <tr>\n",
       "      <th>864</th>\n",
       "      <td>4</td>\n",
       "      <td>0</td>\n",
       "      <td>0</td>\n",
       "      <td>0</td>\n",
       "      <td>810.666667</td>\n",
       "      <td>2048</td>\n",
       "      <td>234.7500</td>\n",
       "      <td>1214</td>\n",
       "    </tr>\n",
       "    <tr>\n",
       "      <th>631</th>\n",
       "      <td>2</td>\n",
       "      <td>5</td>\n",
       "      <td>3</td>\n",
       "      <td>1</td>\n",
       "      <td>725.333333</td>\n",
       "      <td>2048</td>\n",
       "      <td>206.7500</td>\n",
       "      <td>1370</td>\n",
       "    </tr>\n",
       "    <tr>\n",
       "      <th>523</th>\n",
       "      <td>2</td>\n",
       "      <td>2</td>\n",
       "      <td>3</td>\n",
       "      <td>1</td>\n",
       "      <td>810.666667</td>\n",
       "      <td>2048</td>\n",
       "      <td>205.9375</td>\n",
       "      <td>1130</td>\n",
       "    </tr>\n",
       "    <tr>\n",
       "      <th>1289</th>\n",
       "      <td>5</td>\n",
       "      <td>5</td>\n",
       "      <td>4</td>\n",
       "      <td>5</td>\n",
       "      <td>746.666667</td>\n",
       "      <td>2048</td>\n",
       "      <td>199.1250</td>\n",
       "      <td>1199</td>\n",
       "    </tr>\n",
       "  </tbody>\n",
       "</table>\n",
       "</div>"
      ],
      "text/plain": [
       "      0  1  2  3      avg_max   max   avg_its  max_its\n",
       "id                                                    \n",
       "1032  4  4  4  0  1109.333333  2048  351.2500     1674\n",
       "708   3  1  4  0  1109.333333  2048  328.5625     1420\n",
       "1218  5  3  5  0  1024.000000  2048  313.1250     1387\n",
       "660   3  0  2  0  1024.000000  2048  302.3125     1239\n",
       "774   3  3  3  0   938.666667  2048  295.9375     1634\n",
       "1164  5  2  2  0  1024.000000  2048  293.5625     1232\n",
       "253   1  1  0  1   938.666667  2048  275.8125     1402\n",
       "408   1  5  2  0   853.333333  2048  255.1875     1346\n",
       "702   3  1  3  0   810.666667  2048  252.5625     1532\n",
       "438   2  0  1  0   874.666667  2048  245.5625     1439\n",
       "96    0  2  4  0   853.333333  2048  243.0000     1418\n",
       "864   4  0  0  0   810.666667  2048  234.7500     1214\n",
       "631   2  5  3  1   725.333333  2048  206.7500     1370\n",
       "523   2  2  3  1   810.666667  2048  205.9375     1130\n",
       "1289  5  5  4  5   746.666667  2048  199.1250     1199"
      ]
     },
     "execution_count": 335,
     "metadata": {},
     "output_type": "execute_result"
    }
   ],
   "source": [
    "df_mcts_eval[df_mcts_eval['max'] > 1024].sort_values(['avg_its'], ascending=False)"
   ]
  },
  {
   "cell_type": "markdown",
   "id": "00b6d5be-fc52-4e18-a58b-8b777aae04b7",
   "metadata": {},
   "source": [
    "# Best parameters"
   ]
  },
  {
   "cell_type": "markdown",
   "id": "97edaf6d-7491-4626-9a4d-e01cddbfcf93",
   "metadata": {},
   "source": [
    "## Best parameters by avg max tile"
   ]
  },
  {
   "cell_type": "code",
   "execution_count": 343,
   "id": "d16b24ec-4349-4cca-bfc1-528d11d292d5",
   "metadata": {},
   "outputs": [
    {
     "data": {
      "text/html": [
       "<div>\n",
       "<style scoped>\n",
       "    .dataframe tbody tr th:only-of-type {\n",
       "        vertical-align: middle;\n",
       "    }\n",
       "\n",
       "    .dataframe tbody tr th {\n",
       "        vertical-align: top;\n",
       "    }\n",
       "\n",
       "    .dataframe thead th {\n",
       "        text-align: right;\n",
       "    }\n",
       "</style>\n",
       "<table border=\"1\" class=\"dataframe\">\n",
       "  <thead>\n",
       "    <tr style=\"text-align: right;\">\n",
       "      <th></th>\n",
       "      <th>0</th>\n",
       "      <th>1</th>\n",
       "      <th>2</th>\n",
       "      <th>3</th>\n",
       "      <th>avg_max</th>\n",
       "      <th>max</th>\n",
       "      <th>avg_its</th>\n",
       "      <th>max_its</th>\n",
       "    </tr>\n",
       "    <tr>\n",
       "      <th>id</th>\n",
       "      <th></th>\n",
       "      <th></th>\n",
       "      <th></th>\n",
       "      <th></th>\n",
       "      <th></th>\n",
       "      <th></th>\n",
       "      <th></th>\n",
       "      <th></th>\n",
       "    </tr>\n",
       "  </thead>\n",
       "  <tbody>\n",
       "    <tr>\n",
       "      <th>1037</th>\n",
       "      <td>5</td>\n",
       "      <td>4</td>\n",
       "      <td>4</td>\n",
       "      <td>4</td>\n",
       "      <td>938.666667</td>\n",
       "      <td>1024</td>\n",
       "      <td>278.6250</td>\n",
       "      <td>911</td>\n",
       "    </tr>\n",
       "    <tr>\n",
       "      <th>110</th>\n",
       "      <td>2</td>\n",
       "      <td>0</td>\n",
       "      <td>3</td>\n",
       "      <td>0</td>\n",
       "      <td>1024.000000</td>\n",
       "      <td>1024</td>\n",
       "      <td>274.1875</td>\n",
       "      <td>840</td>\n",
       "    </tr>\n",
       "    <tr>\n",
       "      <th>1109</th>\n",
       "      <td>5</td>\n",
       "      <td>4</td>\n",
       "      <td>0</td>\n",
       "      <td>5</td>\n",
       "      <td>1024.000000</td>\n",
       "      <td>2048</td>\n",
       "      <td>263.9375</td>\n",
       "      <td>1111</td>\n",
       "    </tr>\n",
       "    <tr>\n",
       "      <th>807</th>\n",
       "      <td>3</td>\n",
       "      <td>2</td>\n",
       "      <td>4</td>\n",
       "      <td>3</td>\n",
       "      <td>768.000000</td>\n",
       "      <td>1024</td>\n",
       "      <td>262.3750</td>\n",
       "      <td>972</td>\n",
       "    </tr>\n",
       "    <tr>\n",
       "      <th>1145</th>\n",
       "      <td>5</td>\n",
       "      <td>4</td>\n",
       "      <td>1</td>\n",
       "      <td>5</td>\n",
       "      <td>938.666667</td>\n",
       "      <td>1024</td>\n",
       "      <td>256.3750</td>\n",
       "      <td>866</td>\n",
       "    </tr>\n",
       "  </tbody>\n",
       "</table>\n",
       "</div>"
      ],
      "text/plain": [
       "      0  1  2  3      avg_max   max   avg_its  max_its\n",
       "id                                                    \n",
       "1037  5  4  4  4   938.666667  1024  278.6250      911\n",
       "110   2  0  3  0  1024.000000  1024  274.1875      840\n",
       "1109  5  4  0  5  1024.000000  2048  263.9375     1111\n",
       "807   3  2  4  3   768.000000  1024  262.3750      972\n",
       "1145  5  4  1  5   938.666667  1024  256.3750      866"
      ]
     },
     "execution_count": 343,
     "metadata": {},
     "output_type": "execute_result"
    }
   ],
   "source": [
    "df_expectimax_eval.sort_values(['avg_its'], ascending=False).head(5)"
   ]
  },
  {
   "cell_type": "code",
   "execution_count": 344,
   "id": "0a50f906-cc52-438a-bca4-b34a3deac321",
   "metadata": {},
   "outputs": [
    {
     "data": {
      "text/html": [
       "<div>\n",
       "<style scoped>\n",
       "    .dataframe tbody tr th:only-of-type {\n",
       "        vertical-align: middle;\n",
       "    }\n",
       "\n",
       "    .dataframe tbody tr th {\n",
       "        vertical-align: top;\n",
       "    }\n",
       "\n",
       "    .dataframe thead th {\n",
       "        text-align: right;\n",
       "    }\n",
       "</style>\n",
       "<table border=\"1\" class=\"dataframe\">\n",
       "  <thead>\n",
       "    <tr style=\"text-align: right;\">\n",
       "      <th></th>\n",
       "      <th>0</th>\n",
       "      <th>1</th>\n",
       "      <th>2</th>\n",
       "      <th>3</th>\n",
       "      <th>avg_max</th>\n",
       "      <th>max</th>\n",
       "      <th>avg_its</th>\n",
       "      <th>max_its</th>\n",
       "    </tr>\n",
       "    <tr>\n",
       "      <th>id</th>\n",
       "      <th></th>\n",
       "      <th></th>\n",
       "      <th></th>\n",
       "      <th></th>\n",
       "      <th></th>\n",
       "      <th></th>\n",
       "      <th></th>\n",
       "      <th></th>\n",
       "    </tr>\n",
       "  </thead>\n",
       "  <tbody>\n",
       "    <tr>\n",
       "      <th>1032</th>\n",
       "      <td>4</td>\n",
       "      <td>4</td>\n",
       "      <td>4</td>\n",
       "      <td>0</td>\n",
       "      <td>1109.333333</td>\n",
       "      <td>2048</td>\n",
       "      <td>351.2500</td>\n",
       "      <td>1674</td>\n",
       "    </tr>\n",
       "    <tr>\n",
       "      <th>708</th>\n",
       "      <td>3</td>\n",
       "      <td>1</td>\n",
       "      <td>4</td>\n",
       "      <td>0</td>\n",
       "      <td>1109.333333</td>\n",
       "      <td>2048</td>\n",
       "      <td>328.5625</td>\n",
       "      <td>1420</td>\n",
       "    </tr>\n",
       "    <tr>\n",
       "      <th>600</th>\n",
       "      <td>2</td>\n",
       "      <td>4</td>\n",
       "      <td>4</td>\n",
       "      <td>0</td>\n",
       "      <td>1024.000000</td>\n",
       "      <td>1024</td>\n",
       "      <td>317.1875</td>\n",
       "      <td>955</td>\n",
       "    </tr>\n",
       "    <tr>\n",
       "      <th>1218</th>\n",
       "      <td>5</td>\n",
       "      <td>3</td>\n",
       "      <td>5</td>\n",
       "      <td>0</td>\n",
       "      <td>1024.000000</td>\n",
       "      <td>2048</td>\n",
       "      <td>313.1250</td>\n",
       "      <td>1387</td>\n",
       "    </tr>\n",
       "    <tr>\n",
       "      <th>552</th>\n",
       "      <td>2</td>\n",
       "      <td>3</td>\n",
       "      <td>2</td>\n",
       "      <td>0</td>\n",
       "      <td>938.666667</td>\n",
       "      <td>1024</td>\n",
       "      <td>305.5000</td>\n",
       "      <td>953</td>\n",
       "    </tr>\n",
       "  </tbody>\n",
       "</table>\n",
       "</div>"
      ],
      "text/plain": [
       "      0  1  2  3      avg_max   max   avg_its  max_its\n",
       "id                                                    \n",
       "1032  4  4  4  0  1109.333333  2048  351.2500     1674\n",
       "708   3  1  4  0  1109.333333  2048  328.5625     1420\n",
       "600   2  4  4  0  1024.000000  1024  317.1875      955\n",
       "1218  5  3  5  0  1024.000000  2048  313.1250     1387\n",
       "552   2  3  2  0   938.666667  1024  305.5000      953"
      ]
     },
     "execution_count": 344,
     "metadata": {},
     "output_type": "execute_result"
    }
   ],
   "source": [
    "df_mcts_eval.sort_values(['avg_its'], ascending=False).head(5)"
   ]
  },
  {
   "cell_type": "code",
   "execution_count": null,
   "id": "20e2f990-1d8e-4ec4-899c-916c6cbf85d5",
   "metadata": {},
   "outputs": [],
   "source": []
  }
 ],
 "metadata": {
  "kernelspec": {
   "display_name": "Python 3 (ipykernel)",
   "language": "python",
   "name": "python3"
  },
  "language_info": {
   "codemirror_mode": {
    "name": "ipython",
    "version": 3
   },
   "file_extension": ".py",
   "mimetype": "text/x-python",
   "name": "python",
   "nbconvert_exporter": "python",
   "pygments_lexer": "ipython3",
   "version": "3.10.12"
  }
 },
 "nbformat": 4,
 "nbformat_minor": 5
}
