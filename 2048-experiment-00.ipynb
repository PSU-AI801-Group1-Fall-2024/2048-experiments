{
 "cells": [
  {
   "cell_type": "code",
   "execution_count": 58,
   "id": "e8683772-b952-4eb6-84cf-74bc9b914e8e",
   "metadata": {},
   "outputs": [],
   "source": [
    "import numpy as np\n",
    "import random"
   ]
  },
  {
   "cell_type": "code",
   "execution_count": 123,
   "id": "816e0c2b-6020-4940-a1cd-ccd0872e3615",
   "metadata": {},
   "outputs": [],
   "source": [
    "class Game():\n",
    "    def __init__(self):\n",
    "        self.board = np.zeros(16).reshape(4, 4)\n",
    "\n",
    "    def new_piece(self):\n",
    "        print(\"NEW PIECE\")\n",
    "        flattened_board = self.board.reshape(16)\n",
    "        empty_spots = np.where(flattened_board == 0)[0]\n",
    "        print(\"\\tEMPTY SPOTS: \", empty_spots)\n",
    "        new_spot = random.randint(0, len(empty_spots))\n",
    "        print(\"\\tNEW SPOT: \", new_spot)\n",
    "        flattened_board[new_spot] = 2\n",
    "        self.board = flattened_board.reshape(4, 4)"
   ]
  },
  {
   "cell_type": "code",
   "execution_count": 124,
   "id": "b2e2cb0f-211d-4251-9a2d-6fc59c7e0a86",
   "metadata": {},
   "outputs": [
    {
     "data": {
      "text/plain": [
       "array([[0., 0., 0., 0.],\n",
       "       [0., 0., 0., 0.],\n",
       "       [0., 0., 0., 0.],\n",
       "       [0., 0., 0., 0.]])"
      ]
     },
     "execution_count": 124,
     "metadata": {},
     "output_type": "execute_result"
    }
   ],
   "source": [
    "game = Game()\n",
    "game.board"
   ]
  },
  {
   "cell_type": "code",
   "execution_count": 125,
   "id": "74f7d4c5-258b-49ef-865a-3919f719c58f",
   "metadata": {},
   "outputs": [
    {
     "name": "stdout",
     "output_type": "stream",
     "text": [
      "NEW PIECE\n",
      "\tEMPTY SPOTS:  [ 0  1  2  3  4  5  6  7  8  9 10 11 12 13 14 15]\n",
      "\tNEW SPOT:  6\n",
      "NEW PIECE\n",
      "\tEMPTY SPOTS:  [ 0  1  2  3  4  5  7  8  9 10 11 12 13 14 15]\n",
      "\tNEW SPOT:  9\n"
     ]
    }
   ],
   "source": [
    "game.new_piece()\n",
    "game.new_piece()"
   ]
  },
  {
   "cell_type": "code",
   "execution_count": 126,
   "id": "ada45bc7-c3d6-46b1-921b-5c7ab1e251b9",
   "metadata": {},
   "outputs": [
    {
     "data": {
      "text/plain": [
       "array([[0., 0., 0., 0.],\n",
       "       [0., 0., 2., 0.],\n",
       "       [0., 2., 0., 0.],\n",
       "       [0., 0., 0., 0.]])"
      ]
     },
     "execution_count": 126,
     "metadata": {},
     "output_type": "execute_result"
    }
   ],
   "source": [
    "game.board"
   ]
  }
 ],
 "metadata": {
  "kernelspec": {
   "display_name": "Python 3 (ipykernel)",
   "language": "python",
   "name": "python3"
  },
  "language_info": {
   "codemirror_mode": {
    "name": "ipython",
    "version": 3
   },
   "file_extension": ".py",
   "mimetype": "text/x-python",
   "name": "python",
   "nbconvert_exporter": "python",
   "pygments_lexer": "ipython3",
   "version": "3.12.5"
  }
 },
 "nbformat": 4,
 "nbformat_minor": 5
}
