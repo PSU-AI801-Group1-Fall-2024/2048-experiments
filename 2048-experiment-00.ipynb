{
 "cells": [
  {
   "cell_type": "code",
   "execution_count": 3,
   "id": "e8683772-b952-4eb6-84cf-74bc9b914e8e",
   "metadata": {},
   "outputs": [],
   "source": [
    "import numpy as np\n",
    "import random\n",
    "import math\n",
    "import matplotlib.pyplot as plt\n",
    "import copy\n",
    "\n",
    "DEBUG = False"
   ]
  },
  {
   "cell_type": "markdown",
   "id": "fb85d576-3d80-476e-b86d-526bed466b09",
   "metadata": {},
   "source": [
    "# Utility functions"
   ]
  },
  {
   "cell_type": "code",
   "execution_count": 4,
   "id": "20968d59-0091-4e89-bc29-ec021b5907f9",
   "metadata": {},
   "outputs": [],
   "source": [
    "def log(message):\n",
    "    if(DEBUG):\n",
    "        print(message)"
   ]
  },
  {
   "cell_type": "markdown",
   "id": "d1e477c3-8568-4a32-8792-16a1c525255b",
   "metadata": {},
   "source": [
    "# Game Engine\n",
    "Basic 2048 game engine. Defines the game state, transition function, and evaluation function"
   ]
  },
  {
   "cell_type": "code",
   "execution_count": 5,
   "id": "816e0c2b-6020-4940-a1cd-ccd0872e3615",
   "metadata": {},
   "outputs": [],
   "source": [
    "class Game():\n",
    "    def __init__(self):\n",
    "        self.board = np.zeros([4, 4])\n",
    "        self.last = None\n",
    "\n",
    "    def new_piece(self):\n",
    "        flattened_board = self.board.reshape(16)\n",
    "        empty_spots = np.where(flattened_board == 0)[0]\n",
    "        \n",
    "        if len(empty_spots) == 0:\n",
    "            return False\n",
    "        else:\n",
    "            new_spot = empty_spots[random.randint(0, len(empty_spots) - 1)]\n",
    "            log(f\"New cell created at {math.trunc(new_spot / 4)},{new_spot % 4}\")\n",
    "            flattened_board[new_spot] = 2 if random.randint(0, 10) else 4\n",
    "            self.board = flattened_board.reshape(4, 4)\n",
    "\n",
    "        return True\n",
    "\n",
    "\n",
    "    def has_won(self):\n",
    "        return np.any(self.board >= 2048) and not any(self.can_move(direction) for direction in ['L', 'R', 'U', 'D'])\n",
    "\n",
    "    def has_lost(self):\n",
    "        return not any(self.can_move(direction) for direction in ['L', 'R', 'U', 'D']) and not np.any(self.board >= 2048)\n",
    "\n",
    "    def status(self):\n",
    "        # Determine game status based on game conditions\n",
    "        if any(self.can_move(direction) for direction in ['L', 'R', 'U', 'D']):\n",
    "            return \"Game Ongoing\"\n",
    "        elif self.has_won():\n",
    "            return \"Game Won\"\n",
    "        elif self.has_lost():\n",
    "            return \"Game Lost\"\n",
    "        else:\n",
    "            return \"Unknown State\"\n",
    "        \n",
    "    def can_move(self, direction):\n",
    "        if direction == 'L':  # Move left\n",
    "            for row in self.board:\n",
    "                for i in range(1, 4):\n",
    "                    if row[i] != 0 and (row[i - 1] == 0 or row[i - 1] == row[i]):\n",
    "                        return True\n",
    "        elif direction == 'R':  # Move right\n",
    "            for row in self.board:\n",
    "                for i in range(2, -1, -1):\n",
    "                    if row[i] != 0 and (row[i + 1] == 0 or row[i + 1] == row[i]):\n",
    "                        return True\n",
    "        elif direction == 'U':  # Move up\n",
    "            for col in range(4):\n",
    "                for row in range(1, 4):\n",
    "                    if self.board[row][col] != 0 and (self.board[row - 1][col] == 0 or self.board[row - 1][col] == self.board[row][col]):\n",
    "                        return True\n",
    "        elif direction == 'D':  # Move down\n",
    "            for col in range(4):\n",
    "                for row in range(2, -1, -1):\n",
    "                    if self.board[row][col] != 0 and (self.board[row + 1][col] == 0 or self.board[row + 1][col] == self.board[row][col]):\n",
    "                        return True\n",
    "        return False\n",
    "\n",
    "    def transition_left(self):    \n",
    "        for m in range(0, 4):\n",
    "            merged = False # only allow one merge per row per turn, as per the rules\n",
    "            \n",
    "            for i in range(0, 4):\n",
    "                for n in range(1, 4):\n",
    "                    if not self.board[m][n] == 0 and not merged and self.board[m][n - 1] == self.board[m][n]:\n",
    "                        log(f\"Cells merged into {m},{n - 1}\")\n",
    "                        self.board[m][n - 1], self.board[m][n] = self.board[m][n - 1] * 2, 0\n",
    "                        merged = True\n",
    "                        \n",
    "                    if self.board[m][n - 1] == 0 and self.board[m][n] != 0:\n",
    "                        self.board[m][n - 1], self.board[m][n] = self.board[m][n], 0\n",
    "\n",
    "    def transition_right(self):\n",
    "        for m in range(0, 4):\n",
    "            merged = False # only allow one merge per row per turn, as per the rules\n",
    "\n",
    "            for i in range(0, 4):\n",
    "                for n in range(2, -1, -1):\n",
    "                    if not self.board[m][n] == 0 and not merged and self.board[m][n] == self.board[m][n + 1]:\n",
    "                        log(f\"Cells merged into {m},{n + 1}\")\n",
    "                        self.board[m][n], self.board[m][n + 1] = 0, self.board[m][n] * 2\n",
    "                        merged = True\n",
    "                    \n",
    "                    if self.board[m][n] != 0 and self.board[m][n + 1] == 0:\n",
    "                        self.board[m][n], self.board[m][n + 1] = 0, self.board[m][n]\n",
    "            \n",
    "    def transition_up(self):\n",
    "        for n in range(0, 4):\n",
    "            merged = False # only allow one merge per column per turn, as per the rules\n",
    "            \n",
    "            for i in range(0, 4):\n",
    "                for m in range(1, 4):\n",
    "                    if not self.board[m][n] == 0 and not merged and self.board[m - 1][n] == self.board[m][n]:\n",
    "                        log(f\"Cells merged into {m - 1},{n}\")\n",
    "                        self.board[m - 1][n], self.board[m][n] = self.board[m - 1][n] * 2, 0\n",
    "                        merged = True\n",
    "                        \n",
    "                    if self.board[m - 1][n] == 0 and self.board[m][n] != 0:\n",
    "                        self.board[m - 1][n], self.board[m][n] = self.board[m][n], 0\n",
    "\n",
    "    def transition_down(self):\n",
    "        for n in range(0, 4):\n",
    "            merged = False # only allow one merge per column per turn, as per the rules\n",
    "\n",
    "            for i in range(0, 4):\n",
    "                for m in range(2, -1, -1):\n",
    "                    if not self.board[m][n] == 0 and not merged and self.board[m][n] == self.board[m + 1][n]:\n",
    "                        log(f\"Cells merged into {m + 1},{n}\")\n",
    "                        self.board[m][n], self.board[m + 1][n] = 0, self.board[m][n] * 2\n",
    "                        merged = True\n",
    "                    \n",
    "                    if self.board[m][n] != 0 and self.board[m + 1][n] == 0:\n",
    "                        self.board[m][n], self.board[m + 1][n] = 0, self.board[m][n]\n",
    "    \n",
    "    def transition(self, direction):\n",
    "        if self.can_move(direction):\n",
    "            match direction:\n",
    "                case 'L':\n",
    "                    self.transition_left()\n",
    "                case 'R':\n",
    "                    self.transition_right()\n",
    "                case 'U':\n",
    "                    self.transition_up()\n",
    "                case 'D':\n",
    "                    self.transition_down()\n",
    "            \n",
    "            self.last = direction\n",
    "            self.new_piece()\n",
    "    \n",
    "    def set_board(self, _board):\n",
    "        if not isinstance(_board, np.ndarray):\n",
    "            _board = np.array(_board)\n",
    "            \n",
    "        self.board = _board \n"
   ]
  },
  {
   "cell_type": "markdown",
   "id": "15f11471-29f9-48ba-866c-171f599d5bfb",
   "metadata": {},
   "source": [
    "# Simple evaluation function"
   ]
  },
  {
   "cell_type": "code",
   "execution_count": 6,
   "id": "4ddebe88-3e5e-41e8-a48a-6535b616647a",
   "metadata": {},
   "outputs": [],
   "source": [
    "def simple_evaluation_function(board):\n",
    "    # Simple evaluation function based on the number of empty cells and the sum of tile values\n",
    "    empty_cells = np.sum(board == 0)\n",
    "    score = np.sum(board)  # sum of all tiles\n",
    "    return score + empty_cells * 100  # weighted sum and empty cells count for flexibility"
   ]
  },
  {
   "cell_type": "markdown",
   "id": "f066ee95-f030-4e39-a3b7-d97f667b3d69",
   "metadata": {},
   "source": [
    "# Highest corner evaluation function"
   ]
  },
  {
   "cell_type": "code",
   "execution_count": 7,
   "id": "83326d66-c31d-4ce1-a687-1468a07904b4",
   "metadata": {},
   "outputs": [],
   "source": [
    "\n",
    "\n",
    "def cornered_evaluation_function(board):\n",
    "    max_val = np.max(board)\n",
    "    empty_cells = np.sum(board == 0)\n",
    "    highest_corners = 0\n",
    "\n",
    "    if board[0, 0] == max_val:\n",
    "        highest_corners += 1\n",
    "    if board[board.shape[0] - 1, 0] == max_val:\n",
    "        highest_corners += 1\n",
    "    if board[0, board.shape[1] - 1] == max_val:\n",
    "        highest_corners += 1\n",
    "    if board[board.shape[0] - 1, board.shape[1] - 1] == max_val:\n",
    "        highest_corners += 1\n",
    "    \n",
    "    score = np.sum(board) \n",
    "    return score + empty_cells * 100 + highest_corners * max_val "
   ]
  },
  {
   "cell_type": "markdown",
   "id": "bd41f7d1-5247-4e58-aa8f-abc136ebbb17",
   "metadata": {},
   "source": [
    "# Linear Paramaterizable evaluation function (and utilities)"
   ]
  },
  {
   "cell_type": "code",
   "execution_count": 70,
   "id": "26624b3e",
   "metadata": {},
   "outputs": [],
   "source": [
    "def count_horiz_seqs(x):\n",
    "    ct = 0\n",
    "    \n",
    "    for i in range(0, x.shape[0]):\n",
    "        for j in range(0, x.shape[1] - 1):\n",
    "            if x[i, j] > 0 and x[i, j] == x[i, j + 1]:\n",
    "                ct += 1\n",
    "                \n",
    "    return ct\n",
    "\n",
    "def count_seqs(x):\n",
    "    return count_horiz_seqs(x) + count_horiz_seqs(x.transpose())\n",
    "\n",
    "def term(x, prio):\n",
    "    return x * 2 ** prio\n",
    "\n",
    "def linear_evaluation_function_curry(args):\n",
    "    [prio_empty_cells, prio_count_seqs, prio_max_value, prio_avg] = args\n",
    "    \n",
    "    def linear_evaluation_function(board):\n",
    "        empty_cells = np.sum(board == 0)\n",
    "        max_value = np.max(board)\n",
    "        avg_value = np.sum(board) // 16\n",
    "        \n",
    "        return term(empty_cells, prio_empty_cells) + term(count_seqs(board), prio_count_seqs) + term(max_value, prio_max_value) + term(avg_value, prio_avg)\n",
    "    return linear_evaluation_function "
   ]
  },
  {
   "cell_type": "markdown",
   "id": "d260d6da-b115-4a8d-b124-92bf66432029",
   "metadata": {},
   "source": [
    "# SearchAlgorithm\n",
    "Abstract class the defines the basic interface for all search algorithms"
   ]
  },
  {
   "cell_type": "code",
   "execution_count": 9,
   "id": "75d70ecf-04b5-4a6f-bd3f-d27c5a510065",
   "metadata": {},
   "outputs": [],
   "source": [
    "class SearchAlgorithm:\n",
    "    def __init__(self, game, evaluation_function = simple_evaluation_function):\n",
    "        self.game = game\n",
    "        self.evaluation_function = evaluation_function\n",
    "\n",
    "    def best_move(self, *args):\n",
    "        raise NotImplementedError"
   ]
  },
  {
   "cell_type": "markdown",
   "id": "56e55b70-1918-44bd-b361-3acc43676ea2",
   "metadata": {},
   "source": [
    "# Expectimax\n",
    "Implementation of Expectimax"
   ]
  },
  {
   "cell_type": "code",
   "execution_count": 10,
   "id": "273a38cd-173d-43e6-a3da-c4e1864297b5",
   "metadata": {},
   "outputs": [],
   "source": [
    "class Expectimax(SearchAlgorithm):\n",
    "    def __init__(self, game, evaluation_function = simple_evaluation_function):\n",
    "        super().__init__(game, evaluation_function)\n",
    "        \n",
    "    def expectimax(self, depth, is_max_node=True):\n",
    "        # Termination conditions\n",
    "        if depth == 0 or self.game.has_won() or self.game.has_lost():\n",
    "            return self.evaluation_function(self.game.board)\n",
    "        \n",
    "        if is_max_node:  # Max node (player's turn)\n",
    "            max_score = float('-inf')\n",
    "            for direction in ['L', 'R', 'U', 'D']:\n",
    "                if self.game.can_move(direction):\n",
    "                    # Simulate the move\n",
    "                    new_game = Game()\n",
    "                    new_game.board = np.copy(self.game.board)\n",
    "                    new_game.transition(direction)\n",
    "                    \n",
    "                    # Recurse to find the expectimax score\n",
    "                    score = Expectimax(new_game, self.evaluation_function).expectimax(depth - 1, is_max_node=False)\n",
    "                    max_score = max(max_score, score)\n",
    "                    \n",
    "            return max_score\n",
    "\n",
    "        else:  # Chance node (random tile placement)\n",
    "            expected_score = 0\n",
    "            empty_positions = list(zip(*np.where(self.game.board == 0)))\n",
    "            \n",
    "            # Chance of placing 2 or 4\n",
    "            for position in empty_positions:\n",
    "                # Try placing a '2' with probability 0.9\n",
    "                new_game_2 = Game()\n",
    "                new_game_2.board = np.copy(self.game.board)\n",
    "                new_game_2.board[position] = 2\n",
    "                expected_score += 0.9 * Expectimax(new_game_2, self.evaluation_function).expectimax(depth - 1, is_max_node=True)\n",
    "                \n",
    "                # Try placing a '4' with probability 0.1\n",
    "                new_game_4 = Game()\n",
    "                new_game_4.board = np.copy(self.game.board)\n",
    "                new_game_4.board[position] = 4\n",
    "                expected_score += 0.1 * Expectimax(new_game_4, self.evaluation_function).expectimax(depth - 1, is_max_node=True)\n",
    "                \n",
    "            # Average score for chance node\n",
    "            return expected_score / len(empty_positions) if empty_positions else 0\n",
    "\n",
    "    def best_move(self, depth=3):\n",
    "        # Find the best move using expectimax\n",
    "        best_score = float('-inf')\n",
    "        best_direction = None\n",
    "\n",
    "        for direction in ['L', 'R', 'U', 'D']:\n",
    "            if self.game.can_move(direction):\n",
    "                # Create a copy of the game and apply the move\n",
    "                new_game = Game()\n",
    "                new_game.board = np.copy(self.game.board)\n",
    "                new_game.transition(direction)\n",
    "                \n",
    "                # Use expectimax to evaluate this move\n",
    "                score = Expectimax(new_game, self.evaluation_function).expectimax(depth - 1, is_max_node=False)\n",
    "                if score > best_score:\n",
    "                    best_score = score\n",
    "                    best_direction = direction\n",
    "\n",
    "        return best_direction            "
   ]
  },
  {
   "cell_type": "markdown",
   "id": "212a7d2a-c416-458f-94f3-d0eef13c6a08",
   "metadata": {},
   "source": [
    "# MCTS\n",
    "Implementation of the Monte Carlo Tree Search"
   ]
  },
  {
   "cell_type": "code",
   "execution_count": 11,
   "id": "85a4f8de-19a4-4f72-8a0f-dc45184f6f32",
   "metadata": {},
   "outputs": [],
   "source": [
    "class Node:\n",
    "    def __init__(self, game, parent=None):        \n",
    "        self.game = copy.deepcopy(game)      # Store a copy of the game state\n",
    "        self.parent = parent                 # Parent node\n",
    "        self.children = []                   # List of child nodes\n",
    "        self.visits = 0                      # Number of times this node was visited\n",
    "        self.score = 0                       # Total score of simulations from this node\n",
    "    \n",
    "    def is_fully_expanded(self):\n",
    "        return len(self.children) == len(self.get_legal_moves())\n",
    "    \n",
    "    def get_legal_moves(self):\n",
    "        # Return available moves (['L', 'R', 'U', 'D'] if possible)\n",
    "        return [move for move in ['L', 'R', 'U', 'D'] if self.game.can_move(move)]\n",
    "    \n",
    "    def uct_score(self, exploration_param=1.41):\n",
    "        if self.visits == 0:\n",
    "            return float('inf')  # If unvisited, prioritize visiting\n",
    "        return self.score / self.visits + exploration_param * math.sqrt(math.log(self.parent.visits) / self.visits)\n",
    "\n",
    "class MonteCarloTreeSearch(SearchAlgorithm):\n",
    "    def __init__(self, game, evaluation_function = simple_evaluation_function):\n",
    "        super().__init__(game, evaluation_function)\n",
    "        self.root = Node(game)  # Initialize the root node with the initial game state        \n",
    "    \n",
    "    def best_move(self, simulations=1000):\n",
    "        # Run multiple simulations\n",
    "        for _ in range(simulations):\n",
    "            node = self.select(self.root)\n",
    "            if not node.game.has_won() and not node.game.has_lost():\n",
    "                child = self.expand(node)\n",
    "                result = self.simulate(child)\n",
    "                self.backpropagate(child, result)\n",
    "        \n",
    "        # Return the move leading to the child with the highest average score\n",
    "        best_child = max(self.root.children, key=lambda child: child.visits)\n",
    "        return best_child.game.last  # `last` stores the move that led to this state\n",
    "    \n",
    "    def select(self, node):\n",
    "        # Traverse the tree based on UCT scores\n",
    "        while node.is_fully_expanded() and node.children:\n",
    "            node = max(node.children, key=lambda child: child.uct_score())\n",
    "        return node\n",
    "    \n",
    "    def expand(self, node):\n",
    "        # Expand node by adding a new child with an unexplored move\n",
    "        legal_moves = node.get_legal_moves()\n",
    "        for move in legal_moves:\n",
    "            if not any(child.game.last == move for child in node.children):\n",
    "                new_game = copy.deepcopy(node.game)\n",
    "                new_game.transition(move)\n",
    "                child_node = Node(new_game, parent=node)\n",
    "                node.children.append(child_node)\n",
    "                return child_node\n",
    "        return node  # If fully expanded, return the node itself\n",
    "    \n",
    "    def simulate(self, node):\n",
    "        # Play a random game from the node’s state\n",
    "        game = copy.deepcopy(node.game)\n",
    "        while not game.has_won() and not game.has_lost():\n",
    "            legal_moves = [move for move in ['L', 'R', 'U', 'D'] if game.can_move(move)]\n",
    "            if not legal_moves:\n",
    "                break\n",
    "            move = random.choice(legal_moves)\n",
    "            game.transition(move)\n",
    "            game.new_piece()  # Add a new tile after each move\n",
    "        return self.evaluation_function(game.board) # Use the evaluation function as the simulation result\n",
    "    \n",
    "    def backpropagate(self, node, result):\n",
    "        # Propagate the result up to the root\n",
    "        while node:\n",
    "            node.visits += 1\n",
    "            node.score += result\n",
    "            node = node.parent\n"
   ]
  },
  {
   "cell_type": "markdown",
   "id": "39047e68-71d3-41fe-a49e-761565bcfedb",
   "metadata": {},
   "source": [
    "# Game State Visualization"
   ]
  },
  {
   "cell_type": "code",
   "execution_count": 12,
   "id": "ab9dc7eb-d573-4c48-98a4-4a8b70268e16",
   "metadata": {},
   "outputs": [],
   "source": [
    "def get_tile_color(value):\n",
    "    colors = {\n",
    "        0: \"#cdc1b4\",    \n",
    "        2: \"#eee4da\",\n",
    "        4: \"#ede0c8\",\n",
    "        8: \"#f2b179\",\n",
    "        16: \"#f59563\",\n",
    "        32: \"#f67c5f\",\n",
    "        64: \"#f65e3b\",\n",
    "        128: \"#edcf72\",\n",
    "        256: \"#edcc61\",\n",
    "        512: \"#edc850\",\n",
    "        1024: \"#edc53f\",\n",
    "        2048: \"#edc22e\"\n",
    "    }\n",
    "    return colors.get(value, \"#87ceeb\") \n",
    "\n",
    "def display_game(board):\n",
    "    fig, ax = plt.subplots(figsize=(6, 6))\n",
    "    \n",
    "    for (i, j), val in np.ndenumerate(board):\n",
    "        tile_color = get_tile_color(val)\n",
    "        ax.add_patch(plt.Rectangle((j - 0.5, i - 0.5), 1, 1, color=tile_color))\n",
    "        \n",
    "        text_color = \"white\" if val > 4 else \"black\"\n",
    "        ax.text(j, i, str(val) if val > 0 else '', ha='center', va='center', color=text_color, fontsize=20, fontweight='bold')\n",
    "\n",
    "    ax.set_xlim(-0.5, 3.5)\n",
    "    ax.set_ylim(3.5, -0.5)\n",
    "    ax.set_xticks([])\n",
    "    ax.set_yticks([])\n",
    "    ax.grid(which=\"minor\", color=\"black\", linestyle='-', linewidth=2)\n",
    "    ax.set_aspect('equal')\n",
    "\n",
    "    plt.show()"
   ]
  },
  {
   "cell_type": "code",
   "execution_count": 13,
   "id": "233aca28-93ed-4647-9ac1-61eda7d8b692",
   "metadata": {},
   "outputs": [
    {
     "data": {
      "image/png": "[encoded data removed]",
      "text/plain": [
       "<Figure size 600x600 with 1 Axes>"
      ]
     },
     "metadata": {},
     "output_type": "display_data"
    }
   ],
   "source": [
    "game = Game()\n",
    "game.set_board([\n",
    "    [4096, 2048, 8, 16],\n",
    "    [32, 64, 128, 256],\n",
    "    [2, 4, 8, 16],\n",
    "    [32, 64, 128, 2]\n",
    "])\n",
    "\n",
    "display_game(game.board)"
   ]
  },
  {
   "cell_type": "markdown",
   "id": "00b31b69-319c-489c-a982-4eb4a3e113dc",
   "metadata": {},
   "source": [
    "# Test new piece generation and basic movement"
   ]
  },
  {
   "cell_type": "code",
   "execution_count": 14,
   "id": "b2e2cb0f-211d-4251-9a2d-6fc59c7e0a86",
   "metadata": {},
   "outputs": [
    {
     "data": {
      "image/png": "[encoded data removed]",
      "text/plain": [
       "<Figure size 600x600 with 1 Axes>"
      ]
     },
     "metadata": {},
     "output_type": "display_data"
    }
   ],
   "source": [
    "game = Game()\n",
    "display_game(game.board)"
   ]
  },
  {
   "cell_type": "code",
   "execution_count": 15,
   "id": "74f7d4c5-258b-49ef-865a-3919f719c58f",
   "metadata": {},
   "outputs": [
    {
     "data": {
      "image/png": "[encoded data removed]",
      "text/plain": [
       "<Figure size 600x600 with 1 Axes>"
      ]
     },
     "metadata": {},
     "output_type": "display_data"
    }
   ],
   "source": [
    "game.new_piece()\n",
    "game.new_piece()\n",
    "display_game(game.board)"
   ]
  },
  {
   "cell_type": "code",
   "execution_count": 16,
   "id": "256cde39-148c-490c-85cc-a6bad35432c6",
   "metadata": {},
   "outputs": [
    {
     "data": {
      "image/png": "[encoded data removed]",
      "text/plain": [
       "<Figure size 600x600 with 1 Axes>"
      ]
     },
     "metadata": {},
     "output_type": "display_data"
    }
   ],
   "source": [
    "game.transition('L')\n",
    "display_game(game.board)"
   ]
  },
  {
   "cell_type": "code",
   "execution_count": 17,
   "id": "5e662ed9-2957-4efb-b181-df33fcdb8591",
   "metadata": {},
   "outputs": [
    {
     "data": {
      "image/png": "[encoded data removed]",
      "text/plain": [
       "<Figure size 600x600 with 1 Axes>"
      ]
     },
     "metadata": {},
     "output_type": "display_data"
    }
   ],
   "source": [
    "game.transition('R')\n",
    "display_game(game.board)"
   ]
  },
  {
   "cell_type": "markdown",
   "id": "e4f1ea55-ebb1-4d06-b9d5-2cfbcb28f709",
   "metadata": {},
   "source": [
    "# Test merge left"
   ]
  },
  {
   "cell_type": "code",
   "execution_count": 18,
   "id": "68d94ce2-a06f-4f26-8e84-93f29a24944b",
   "metadata": {},
   "outputs": [
    {
     "data": {
      "image/png": "[encoded data removed]",
      "text/plain": [
       "<Figure size 600x600 with 1 Axes>"
      ]
     },
     "metadata": {},
     "output_type": "display_data"
    }
   ],
   "source": [
    "game = Game()\n",
    "game.board[0][0], game.board[0][3] = 2, 2\n",
    "display_game(game.board)"
   ]
  },
  {
   "cell_type": "code",
   "execution_count": 19,
   "id": "42a5f1a2-736e-47d8-a30b-43df89c3254d",
   "metadata": {},
   "outputs": [
    {
     "data": {
      "image/png": "[encoded data removed]",
      "text/plain": [
       "<Figure size 600x600 with 1 Axes>"
      ]
     },
     "metadata": {},
     "output_type": "display_data"
    }
   ],
   "source": [
    "game.transition('L')\n",
    "display_game(game.board)"
   ]
  },
  {
   "cell_type": "markdown",
   "id": "82535d41-d9de-48fc-ab35-1ae174c4deb3",
   "metadata": {},
   "source": [
    "# Test merge right"
   ]
  },
  {
   "cell_type": "code",
   "execution_count": 20,
   "id": "b98d5c79-e4d4-421d-9da9-748c8fc0fdb7",
   "metadata": {},
   "outputs": [
    {
     "data": {
      "image/png": "[encoded data removed]",
      "text/plain": [
       "<Figure size 600x600 with 1 Axes>"
      ]
     },
     "metadata": {},
     "output_type": "display_data"
    }
   ],
   "source": [
    "game = Game()\n",
    "game.board[0][0], game.board[0][3] = 2, 2\n",
    "display_game(game.board)"
   ]
  },
  {
   "cell_type": "code",
   "execution_count": 21,
   "id": "33acd169-6810-4735-867a-4c6fbd0ab81b",
   "metadata": {},
   "outputs": [
    {
     "data": {
      "image/png": "[encoded data removed]",
      "text/plain": [
       "<Figure size 600x600 with 1 Axes>"
      ]
     },
     "metadata": {},
     "output_type": "display_data"
    }
   ],
   "source": [
    "game.transition('R')\n",
    "display_game(game.board)"
   ]
  },
  {
   "cell_type": "markdown",
   "id": "9453b2a5-ca7b-44f8-a562-141877a189d3",
   "metadata": {},
   "source": [
    "# Test merge up"
   ]
  },
  {
   "cell_type": "code",
   "execution_count": 22,
   "id": "2ece7cab-cf19-4fdb-b261-95a4077a30ff",
   "metadata": {},
   "outputs": [
    {
     "data": {
      "image/png": "[encoded data removed]",
      "text/plain": [
       "<Figure size 600x600 with 1 Axes>"
      ]
     },
     "metadata": {},
     "output_type": "display_data"
    }
   ],
   "source": [
    "game = Game()\n",
    "game.board[0][0], game.board[3][0] = 2, 2\n",
    "display_game(game.board)"
   ]
  },
  {
   "cell_type": "code",
   "execution_count": 23,
   "id": "839c8f28-a55d-446b-b468-36cfa47fa9aa",
   "metadata": {},
   "outputs": [
    {
     "data": {
      "image/png": "[encoded data removed]",
      "text/plain": [
       "<Figure size 600x600 with 1 Axes>"
      ]
     },
     "metadata": {},
     "output_type": "display_data"
    }
   ],
   "source": [
    "game.transition('U')\n",
    "display_game(game.board)"
   ]
  },
  {
   "cell_type": "markdown",
   "id": "44518f4d-8e20-4e9b-a6d7-def4d4080f5d",
   "metadata": {},
   "source": [
    "# Test merge down"
   ]
  },
  {
   "cell_type": "code",
   "execution_count": 24,
   "id": "fc8183eb-a00f-4186-8e33-4ea7ad6613c6",
   "metadata": {},
   "outputs": [
    {
     "data": {
      "image/png": "[encoded data removed]",
      "text/plain": [
       "<Figure size 600x600 with 1 Axes>"
      ]
     },
     "metadata": {},
     "output_type": "display_data"
    }
   ],
   "source": [
    "game = Game()\n",
    "game.board[0][0], game.board[3][0] = 2, 2\n",
    "display_game(game.board)"
   ]
  },
  {
   "cell_type": "code",
   "execution_count": 25,
   "id": "8fcd51e9-6fb2-4674-9e48-769fd5d4b6c7",
   "metadata": {},
   "outputs": [
    {
     "data": {
      "image/png": "[encoded data removed]",
      "text/plain": [
       "<Figure size 600x600 with 1 Axes>"
      ]
     },
     "metadata": {},
     "output_type": "display_data"
    }
   ],
   "source": [
    "game.transition('D')\n",
    "display_game(game.board)"
   ]
  },
  {
   "cell_type": "markdown",
   "id": "08539265-eb53-40bb-b4d2-da5a5b0463b7",
   "metadata": {},
   "source": [
    "# Test Expectimax"
   ]
  },
  {
   "cell_type": "code",
   "execution_count": 26,
   "id": "2afb49b8-da96-474d-9cff-480fb4fa3d6e",
   "metadata": {},
   "outputs": [
    {
     "name": "stdout",
     "output_type": "stream",
     "text": [
      "Best move: L\n"
     ]
    }
   ],
   "source": [
    "game = Game()\n",
    "# Initialize the game board as desired or play normally\n",
    "game.new_piece()  # Place an initial piece\n",
    "game.new_piece()  # Place a second initial piece\n",
    "\n",
    "expectimax = Expectimax(game)\n",
    "best_move = expectimax.best_move(depth = 3)\n",
    "print(f\"Best move: {best_move}\")"
   ]
  },
  {
   "cell_type": "markdown",
   "id": "bcaad2f0-abf2-4c71-acc9-6e797c009580",
   "metadata": {},
   "source": [
    "# Test MCTS"
   ]
  },
  {
   "cell_type": "code",
   "execution_count": 52,
   "id": "766feb89-0da6-4ee8-b6c2-d0380400d353",
   "metadata": {},
   "outputs": [
    {
     "name": "stdout",
     "output_type": "stream",
     "text": [
      "Best move: L\n"
     ]
    }
   ],
   "source": [
    "#Test MTCS\n",
    "game = Game()\n",
    "game.new_piece()  # Place an initial piece\n",
    "game.new_piece()  # Place a second initial piece\n",
    "\n",
    "mcts = MonteCarloTreeSearch(game)\n",
    "best_move = mcts.best_move(simulations = 1000)  # Increase simulations for better accuracy\n",
    "print(f\"Best move: {best_move}\")"
   ]
  },
  {
   "cell_type": "markdown",
   "id": "74858368-a12f-4d8a-9065-455d41685c44",
   "metadata": {},
   "source": [
    "# Linear Evaluation Function parameter test"
   ]
  },
  {
   "cell_type": "code",
   "execution_count": 71,
   "id": "50353ac6-b723-498d-b71a-a1c02d69b33c",
   "metadata": {},
   "outputs": [],
   "source": [
    "def test_linear_evaluation_function_curry(args):\n",
    "    done = False\n",
    "    game = None\n",
    "    i = 0\n",
    "    \n",
    "    game = Game()\n",
    "    game.new_piece()  # Place an initial piece\n",
    "    game.new_piece()  # Place a second initial piece\n",
    "    \n",
    "    j = 0\n",
    "\n",
    "    search = lambda: MonteCarloTreeSearch(game, linear_evaluation_function_curry(args))\n",
    "    search_args = 128\n",
    "    \n",
    "    while not (game.has_lost() or game.has_won()):\n",
    "        best_move = search().best_move(search_args)\n",
    "        game.transition(best_move)\n",
    "        j += 1\n",
    "\n",
    "    i += 1\n",
    "    \n",
    "    return game"
   ]
  },
  {
   "cell_type": "code",
   "execution_count": null,
   "id": "7326052e-6791-41fd-a1a5-176dcf42bb15",
   "metadata": {},
   "outputs": [],
   "source": [
    "for i in range(0, 200):\n",
    "    board = test_linear_evaluation_function_curry([5, 0, 3, 0]).board\n",
    "    max_val = np.max(board)\n",
    "\n",
    "    print(i, max_val)\n",
    "    \n",
    "    if max_val > 1024:\n",
    "        print('WON!')\n",
    "        display_game(board)"
   ]
  },
  {
   "cell_type": "code",
   "execution_count": null,
   "id": "420bbaf5-4498-45d0-9c3d-a7e4c6da2d75",
   "metadata": {},
   "outputs": [],
   "source": [
    "max_val = 0\n",
    "max_args = None\n",
    "\n",
    "max_avg = 0\n",
    "max_avg_args = None\n",
    "\n",
    "# Working best\n",
    "# [4, 3, 2, 0]\n",
    "\n",
    "args = [0, 0, 0, 0]\n",
    "ubound = 6 \n",
    "i = 0\n",
    "\n",
    "for i in range(0, ubound ** len(args)):\n",
    "    for j in range(0, len(args)):\n",
    "        x = (i // (ubound ** j)) % ubound\n",
    "        args[j] = x\n",
    "\n",
    "    n = 6\n",
    "    results = []\n",
    "    \n",
    "    for k in range(0, n):\n",
    "        board = test_linear_evaluation_function_curry(args).board\n",
    "\n",
    "        _max_val = int(np.max(board))\n",
    "        results.append(_max_val)\n",
    "\n",
    "        if _max_val > max_val:\n",
    "            max_val = _max_val\n",
    "            max_args = args\n",
    "            print(f\"New max: {max_val} {max_args}\")\n",
    "\n",
    "            if max_val >= 2048:\n",
    "                print(\"WON!\")\n",
    "                display_game(board)\n",
    "\n",
    "    avg = sum(results) / n\n",
    "\n",
    "    if avg == max_avg:\n",
    "        print(f\"Tie max avg: {max_avg} {max_avg_args}\")\n",
    "    \n",
    "    if avg > max_avg:\n",
    "        max_avg = avg\n",
    "        max_avg_args = args\n",
    "        print(f\"New max avg: {max_avg} {max_avg_args}\")\n",
    "    \n",
    "    \n",
    "(max_val, max_args, max_avg, max_avg_args)"
   ]
  },
  {
   "cell_type": "markdown",
   "id": "bc7bee70-9342-40ea-be3b-c0f940e17619",
   "metadata": {},
   "source": [
    "# Plan\n",
    "\n",
    "1. Experimentally find optimal evaluation function\n",
    "2. Experimentally find optimal parameters for Expectimax (search depth) and Monte Carlo (number of simulations)\n",
    "3. Experimentally compare the two algorithms "
   ]
  },
  {
   "cell_type": "code",
   "execution_count": null,
   "id": "c41a55bf-f2e7-4ffa-ac0f-6cbd5fb9ca82",
   "metadata": {},
   "outputs": [],
   "source": []
  }
 ],
 "metadata": {
  "kernelspec": {
   "display_name": "Python 3 (ipykernel)",
   "language": "python",
   "name": "python3"
  },
  "language_info": {
   "codemirror_mode": {
    "name": "ipython",
    "version": 3
   },
   "file_extension": ".py",
   "mimetype": "text/x-python",
   "name": "python",
   "nbconvert_exporter": "python",
   "pygments_lexer": "ipython3",
   "version": "3.10.12"
  }
 },
 "nbformat": 4,
 "nbformat_minor": 5
}
