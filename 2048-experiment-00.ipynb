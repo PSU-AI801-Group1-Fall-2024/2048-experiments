{
 "cells": [
  {
   "cell_type": "code",
   "execution_count": 15,
   "id": "e8683772-b952-4eb6-84cf-74bc9b914e8e",
   "metadata": {},
   "outputs": [],
   "source": [
    "import numpy as np\n",
    "import random\n",
    "import math"
   ]
  },
  {
   "cell_type": "markdown",
   "id": "d1e477c3-8568-4a32-8792-16a1c525255b",
   "metadata": {},
   "source": [
    "# Game Engine"
   ]
  },
  {
   "cell_type": "code",
   "execution_count": 16,
   "id": "816e0c2b-6020-4940-a1cd-ccd0872e3615",
   "metadata": {},
   "outputs": [],
   "source": [
    "class Game():\n",
    "    def __init__(self):\n",
    "        self.board = np.zeros([4, 4])\n",
    "        self.last = None\n",
    "\n",
    "    def new_piece(self):\n",
    "        flattened_board = self.board.reshape(16)\n",
    "        empty_spots = np.where(flattened_board == 0)[0]\n",
    "        \n",
    "        if len(empty_spots) == 0:\n",
    "            return False\n",
    "        else:\n",
    "            new_spot = empty_spots[random.randint(0, len(empty_spots) - 1)]\n",
    "            print(f\"New cell created at {math.trunc(new_spot / 4)},{new_spot % 4}\")\n",
    "            flattened_board[new_spot] = 2\n",
    "            self.board = flattened_board.reshape(4, 4)\n",
    "\n",
    "        return True\n",
    "\n",
    "    def has_lost(self):\n",
    "        # TODO\n",
    "        return False\n",
    "\n",
    "    def has_won(self):\n",
    "        flattened_board = self.board.reshape(16)        \n",
    "        return len(np.where(flattened_board == 2048)[0]) > 0\n",
    "    \n",
    "    def cycle(self):\n",
    "        self.new_piece()\n",
    "\n",
    "    def left(self):    \n",
    "        if self.last != 'L':\n",
    "            for m in range(0, 4):\n",
    "                merged = False # only allow one merge per row per turn, as per the rules\n",
    "                \n",
    "                for i in range(0, 4):\n",
    "                    for n in range(1, 4):\n",
    "                        if not self.board[m][n] == 0 and not merged and self.board[m][n - 1] == self.board[m][n]:\n",
    "                            print(f\"Cells merged into {m},{n - 1}\")\n",
    "                            self.board[m][n - 1], self.board[m][n] = self.board[m][n - 1] * 2, 0\n",
    "                            merged = True\n",
    "                            \n",
    "                        if self.board[m][n - 1] == 0 and self.board[m][n] != 0:\n",
    "                            self.board[m][n - 1], self.board[m][n] = self.board[m][n], 0\n",
    "                            \n",
    "            self.last = 'L'\n",
    "            self.cycle()\n",
    "\n",
    "    def right(self):\n",
    "        if self.last != 'R':        \n",
    "            for m in range(0, 4):\n",
    "                merged = False # only allow one merge per row per turn, as per the rules\n",
    "    \n",
    "                for i in range(0, 4):\n",
    "                    for n in range(2, -1, -1):\n",
    "                        if not self.board[m][n] == 0 and not merged and self.board[m][n] == self.board[m][n + 1]:\n",
    "                            print(f\"Cells merged into {m},{n + 1}\")\n",
    "                            self.board[m][n], self.board[m][n + 1] = 0, self.board[m][n] * 2\n",
    "                            merged = True\n",
    "                        \n",
    "                        if self.board[m][n] != 0 and self.board[m][n + 1] == 0:\n",
    "                            self.board[m][n], self.board[m][n + 1] = 0, self.board[m][n]\n",
    "\n",
    "            self.last = 'R'\n",
    "            self.cycle()\n",
    "            \n",
    "    def up(self):\n",
    "        if self.last != 'U':        \n",
    "            for n in range(0, 4):\n",
    "                merged = False # only allow one merge per column per turn, as per the rules\n",
    "                \n",
    "                for i in range(0, 4):\n",
    "                    for m in range(1, 4):\n",
    "                        if not self.board[m][n] == 0 and not merged and self.board[m - 1][n] == self.board[m][n]:\n",
    "                            print(f\"Cells merged into {m - 1},{n}\")\n",
    "                            self.board[m - 1][n], self.board[m][n] = self.board[m - 1][n] * 2, 0\n",
    "                            merged = True\n",
    "                            \n",
    "                        if self.board[m - 1][n] == 0 and self.board[m][n] != 0:\n",
    "                            self.board[m - 1][n], self.board[m][n] = self.board[m][n], 0\n",
    "\n",
    "            self.last = 'U'\n",
    "            self.cycle()\n",
    "\n",
    "    def down(self):\n",
    "        if self.last != 'D':        \n",
    "            for n in range(0, 4):\n",
    "                merged = False # only allow one merge per column per turn, as per the rules\n",
    "    \n",
    "                for i in range(0, 4):\n",
    "                    for m in range(2, -1, -1):\n",
    "                        if not self.board[m][n] == 0 and not merged and self.board[m][n] == self.board[m + 1][n]:\n",
    "                            print(f\"Cells merged into {m + 1},{n}\")\n",
    "                            self.board[m][n], self.board[m + 1][n] = 0, self.board[m][n] * 2\n",
    "                            merged = True\n",
    "                        \n",
    "                        if self.board[m][n] != 0 and self.board[m + 1][n] == 0:\n",
    "                            self.board[m][n], self.board[m + 1][n] = 0, self.board[m][n]\n",
    "\n",
    "            self.last = 'D'\n",
    "            self.cycle()"
   ]
  },
  {
   "cell_type": "markdown",
   "id": "00b31b69-319c-489c-a982-4eb4a3e113dc",
   "metadata": {},
   "source": [
    "# Test new piece generation and basic movement"
   ]
  },
  {
   "cell_type": "code",
   "execution_count": 17,
   "id": "b2e2cb0f-211d-4251-9a2d-6fc59c7e0a86",
   "metadata": {},
   "outputs": [
    {
     "data": {
      "text/plain": [
       "array([[0., 0., 0., 0.],\n",
       "       [0., 0., 0., 0.],\n",
       "       [0., 0., 0., 0.],\n",
       "       [0., 0., 0., 0.]])"
      ]
     },
     "execution_count": 17,
     "metadata": {},
     "output_type": "execute_result"
    }
   ],
   "source": [
    "game = Game()\n",
    "game.board"
   ]
  },
  {
   "cell_type": "code",
   "execution_count": 18,
   "id": "74f7d4c5-258b-49ef-865a-3919f719c58f",
   "metadata": {},
   "outputs": [
    {
     "name": "stdout",
     "output_type": "stream",
     "text": [
      "New cell created at 3,0\n",
      "New cell created at 0,1\n"
     ]
    },
    {
     "data": {
      "text/plain": [
       "array([[0., 2., 0., 0.],\n",
       "       [0., 0., 0., 0.],\n",
       "       [0., 0., 0., 0.],\n",
       "       [2., 0., 0., 0.]])"
      ]
     },
     "execution_count": 18,
     "metadata": {},
     "output_type": "execute_result"
    }
   ],
   "source": [
    "game.new_piece()\n",
    "game.new_piece()\n",
    "game.board"
   ]
  },
  {
   "cell_type": "code",
   "execution_count": 19,
   "id": "256cde39-148c-490c-85cc-a6bad35432c6",
   "metadata": {},
   "outputs": [
    {
     "name": "stdout",
     "output_type": "stream",
     "text": [
      "New cell created at 1,2\n"
     ]
    },
    {
     "data": {
      "text/plain": [
       "array([[2., 0., 0., 0.],\n",
       "       [0., 0., 2., 0.],\n",
       "       [0., 0., 0., 0.],\n",
       "       [2., 0., 0., 0.]])"
      ]
     },
     "execution_count": 19,
     "metadata": {},
     "output_type": "execute_result"
    }
   ],
   "source": [
    "game.left()\n",
    "game.board"
   ]
  },
  {
   "cell_type": "code",
   "execution_count": 20,
   "id": "5e662ed9-2957-4efb-b181-df33fcdb8591",
   "metadata": {},
   "outputs": [
    {
     "name": "stdout",
     "output_type": "stream",
     "text": [
      "New cell created at 3,1\n"
     ]
    },
    {
     "data": {
      "text/plain": [
       "(None,\n",
       " array([[0., 0., 0., 2.],\n",
       "        [0., 0., 0., 2.],\n",
       "        [0., 0., 0., 0.],\n",
       "        [0., 2., 0., 2.]]))"
      ]
     },
     "execution_count": 20,
     "metadata": {},
     "output_type": "execute_result"
    }
   ],
   "source": [
    "out = game.right()\n",
    "out, game.board "
   ]
  },
  {
   "cell_type": "markdown",
   "id": "e4f1ea55-ebb1-4d06-b9d5-2cfbcb28f709",
   "metadata": {},
   "source": [
    "# Test merge left"
   ]
  },
  {
   "cell_type": "code",
   "execution_count": 21,
   "id": "68d94ce2-a06f-4f26-8e84-93f29a24944b",
   "metadata": {},
   "outputs": [
    {
     "data": {
      "text/plain": [
       "array([[2., 0., 0., 2.],\n",
       "       [0., 0., 0., 0.],\n",
       "       [0., 0., 0., 0.],\n",
       "       [0., 0., 0., 0.]])"
      ]
     },
     "execution_count": 21,
     "metadata": {},
     "output_type": "execute_result"
    }
   ],
   "source": [
    "game = Game()\n",
    "game.board[0][0], game.board[0][3] = 2, 2\n",
    "game.board"
   ]
  },
  {
   "cell_type": "code",
   "execution_count": 22,
   "id": "42a5f1a2-736e-47d8-a30b-43df89c3254d",
   "metadata": {},
   "outputs": [
    {
     "name": "stdout",
     "output_type": "stream",
     "text": [
      "Cells merged into 0,0\n",
      "New cell created at 2,2\n"
     ]
    },
    {
     "data": {
      "text/plain": [
       "array([[4., 0., 0., 0.],\n",
       "       [0., 0., 0., 0.],\n",
       "       [0., 0., 2., 0.],\n",
       "       [0., 0., 0., 0.]])"
      ]
     },
     "execution_count": 22,
     "metadata": {},
     "output_type": "execute_result"
    }
   ],
   "source": [
    "game.left()\n",
    "game.board"
   ]
  },
  {
   "cell_type": "markdown",
   "id": "82535d41-d9de-48fc-ab35-1ae174c4deb3",
   "metadata": {},
   "source": [
    "# Test merge right"
   ]
  },
  {
   "cell_type": "code",
   "execution_count": 23,
   "id": "b98d5c79-e4d4-421d-9da9-748c8fc0fdb7",
   "metadata": {},
   "outputs": [
    {
     "data": {
      "text/plain": [
       "array([[2., 0., 0., 2.],\n",
       "       [0., 0., 0., 0.],\n",
       "       [0., 0., 0., 0.],\n",
       "       [0., 0., 0., 0.]])"
      ]
     },
     "execution_count": 23,
     "metadata": {},
     "output_type": "execute_result"
    }
   ],
   "source": [
    "game = Game()\n",
    "game.board[0][0], game.board[0][3] = 2, 2\n",
    "game.board"
   ]
  },
  {
   "cell_type": "code",
   "execution_count": 24,
   "id": "33acd169-6810-4735-867a-4c6fbd0ab81b",
   "metadata": {},
   "outputs": [
    {
     "name": "stdout",
     "output_type": "stream",
     "text": [
      "Cells merged into 0,3\n",
      "New cell created at 1,2\n"
     ]
    },
    {
     "data": {
      "text/plain": [
       "array([[0., 0., 0., 4.],\n",
       "       [0., 0., 2., 0.],\n",
       "       [0., 0., 0., 0.],\n",
       "       [0., 0., 0., 0.]])"
      ]
     },
     "execution_count": 24,
     "metadata": {},
     "output_type": "execute_result"
    }
   ],
   "source": [
    "game.right()\n",
    "game.board"
   ]
  },
  {
   "cell_type": "markdown",
   "id": "9453b2a5-ca7b-44f8-a562-141877a189d3",
   "metadata": {},
   "source": [
    "# Test merge up"
   ]
  },
  {
   "cell_type": "code",
   "execution_count": 25,
   "id": "2ece7cab-cf19-4fdb-b261-95a4077a30ff",
   "metadata": {},
   "outputs": [
    {
     "data": {
      "text/plain": [
       "array([[2., 0., 0., 0.],\n",
       "       [0., 0., 0., 0.],\n",
       "       [0., 0., 0., 0.],\n",
       "       [2., 0., 0., 0.]])"
      ]
     },
     "execution_count": 25,
     "metadata": {},
     "output_type": "execute_result"
    }
   ],
   "source": [
    "game = Game()\n",
    "game.board[0][0], game.board[3][0] = 2, 2\n",
    "game.board"
   ]
  },
  {
   "cell_type": "code",
   "execution_count": 26,
   "id": "839c8f28-a55d-446b-b468-36cfa47fa9aa",
   "metadata": {},
   "outputs": [
    {
     "name": "stdout",
     "output_type": "stream",
     "text": [
      "Cells merged into 0,0\n",
      "New cell created at 3,0\n"
     ]
    },
    {
     "data": {
      "text/plain": [
       "array([[4., 0., 0., 0.],\n",
       "       [0., 0., 0., 0.],\n",
       "       [0., 0., 0., 0.],\n",
       "       [2., 0., 0., 0.]])"
      ]
     },
     "execution_count": 26,
     "metadata": {},
     "output_type": "execute_result"
    }
   ],
   "source": [
    "game.up()\n",
    "game.board"
   ]
  },
  {
   "cell_type": "markdown",
   "id": "44518f4d-8e20-4e9b-a6d7-def4d4080f5d",
   "metadata": {},
   "source": [
    "# Test merge down"
   ]
  },
  {
   "cell_type": "code",
   "execution_count": 27,
   "id": "fc8183eb-a00f-4186-8e33-4ea7ad6613c6",
   "metadata": {},
   "outputs": [
    {
     "data": {
      "text/plain": [
       "array([[2., 0., 0., 0.],\n",
       "       [0., 0., 0., 0.],\n",
       "       [0., 0., 0., 0.],\n",
       "       [2., 0., 0., 0.]])"
      ]
     },
     "execution_count": 27,
     "metadata": {},
     "output_type": "execute_result"
    }
   ],
   "source": [
    "game = Game()\n",
    "game.board[0][0], game.board[3][0] = 2, 2\n",
    "game.board"
   ]
  },
  {
   "cell_type": "code",
   "execution_count": 28,
   "id": "8fcd51e9-6fb2-4674-9e48-769fd5d4b6c7",
   "metadata": {},
   "outputs": [
    {
     "name": "stdout",
     "output_type": "stream",
     "text": [
      "Cells merged into 3,0\n",
      "New cell created at 2,3\n"
     ]
    },
    {
     "data": {
      "text/plain": [
       "array([[0., 0., 0., 0.],\n",
       "       [0., 0., 0., 0.],\n",
       "       [0., 0., 0., 2.],\n",
       "       [4., 0., 0., 0.]])"
      ]
     },
     "execution_count": 28,
     "metadata": {},
     "output_type": "execute_result"
    }
   ],
   "source": [
    "game.down()\n",
    "game.board"
   ]
  }
 ],
 "metadata": {
  "kernelspec": {
   "display_name": "Python 3 (ipykernel)",
   "language": "python",
   "name": "python3"
  },
  "language_info": {
   "codemirror_mode": {
    "name": "ipython",
    "version": 3
   },
   "file_extension": ".py",
   "mimetype": "text/x-python",
   "name": "python",
   "nbconvert_exporter": "python",
   "pygments_lexer": "ipython3",
   "version": "3.12.5"
  }
 },
 "nbformat": 4,
 "nbformat_minor": 5
}
