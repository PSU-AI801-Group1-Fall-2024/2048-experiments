{
 "cells": [
  {
   "cell_type": "code",
   "execution_count": 261,
   "id": "e8683772-b952-4eb6-84cf-74bc9b914e8e",
   "metadata": {},
   "outputs": [],
   "source": [
    "import numpy as np\n",
    "import random"
   ]
  },
  {
   "cell_type": "code",
   "execution_count": 274,
   "id": "816e0c2b-6020-4940-a1cd-ccd0872e3615",
   "metadata": {},
   "outputs": [],
   "source": [
    "class Game():\n",
    "    def __init__(self):\n",
    "        self.board = np.zeros(16).reshape(4, 4)\n",
    "\n",
    "    def new_piece(self):\n",
    "        print(\"NEW PIECE\")\n",
    "        flattened_board = self.board.reshape(16)\n",
    "        empty_spots = np.where(flattened_board == 0)[0]\n",
    "        print(\"\\tEMPTY SPOTS: \", empty_spots)\n",
    "        new_spot = random.randint(0, len(empty_spots) - 1)\n",
    "        print(\"\\tNEW SPOT: \", new_spot)\n",
    "        flattened_board[new_spot] = 2\n",
    "        self.board = flattened_board.reshape(4, 4)\n",
    "\n",
    "    def left(self):\n",
    "        for i in range(0, 4):\n",
    "            for m in range(0, 4):\n",
    "                merged = False\n",
    "                \n",
    "                for n in range(1, 4):\n",
    "                    if not merged and self.board[m][n - 1] == self.board[m][n]:\n",
    "                        self.board[m][n - 1], self.board[m][n] = self.board[m][n - 1] * 2, 0\n",
    "                        merged = True\n",
    "                        \n",
    "                    if self.board[m][n - 1] == 0 and self.board[m][n] != 0:\n",
    "                        self.board[m][n - 1], self.board[m][n] = self.board[m][n], 0\n",
    "                \n",
    "    def right(self):\n",
    "        for i in range(0, 4):\n",
    "            for m in range(0, 4):\n",
    "                merged = False\n",
    "                \n",
    "                for n in range(2, -1, -1):\n",
    "                    if not merged and self.board[m][n] == self.board[m][n + 1]:\n",
    "                        self.board[m][n], self.board[m][n + 1] = 0, self.board[m][n] * 2\n",
    "                        merged = True\n",
    "                    \n",
    "                    if self.board[m][n] != 0 and self.board[m][n + 1] == 0:\n",
    "                        self.board[m][n], self.board[m][n + 1] = 0, self.board[m][n]\n",
    "\n"
   ]
  },
  {
   "cell_type": "code",
   "execution_count": 275,
   "id": "b2e2cb0f-211d-4251-9a2d-6fc59c7e0a86",
   "metadata": {},
   "outputs": [
    {
     "data": {
      "text/plain": [
       "array([[0., 0., 0., 0.],\n",
       "       [0., 0., 0., 0.],\n",
       "       [0., 0., 0., 0.],\n",
       "       [0., 0., 0., 0.]])"
      ]
     },
     "execution_count": 275,
     "metadata": {},
     "output_type": "execute_result"
    }
   ],
   "source": [
    "game = Game()\n",
    "game.board"
   ]
  },
  {
   "cell_type": "code",
   "execution_count": 276,
   "id": "74f7d4c5-258b-49ef-865a-3919f719c58f",
   "metadata": {},
   "outputs": [
    {
     "name": "stdout",
     "output_type": "stream",
     "text": [
      "NEW PIECE\n",
      "\tEMPTY SPOTS:  [ 0  1  2  3  4  5  6  7  8  9 10 11 12 13 14 15]\n",
      "\tNEW SPOT:  7\n",
      "NEW PIECE\n",
      "\tEMPTY SPOTS:  [ 0  1  2  3  4  5  6  8  9 10 11 12 13 14 15]\n",
      "\tNEW SPOT:  5\n"
     ]
    }
   ],
   "source": [
    "game.new_piece()\n",
    "game.new_piece()"
   ]
  },
  {
   "cell_type": "code",
   "execution_count": 277,
   "id": "ada45bc7-c3d6-46b1-921b-5c7ab1e251b9",
   "metadata": {},
   "outputs": [
    {
     "data": {
      "text/plain": [
       "array([[0., 0., 0., 0.],\n",
       "       [0., 2., 0., 2.],\n",
       "       [0., 0., 0., 0.],\n",
       "       [0., 0., 0., 0.]])"
      ]
     },
     "execution_count": 277,
     "metadata": {},
     "output_type": "execute_result"
    }
   ],
   "source": [
    "game.board"
   ]
  },
  {
   "cell_type": "code",
   "execution_count": 278,
   "id": "256cde39-148c-490c-85cc-a6bad35432c6",
   "metadata": {},
   "outputs": [],
   "source": [
    "game.left()"
   ]
  },
  {
   "cell_type": "code",
   "execution_count": 279,
   "id": "09869b9c-454d-4cde-af3c-9540d23c2061",
   "metadata": {},
   "outputs": [
    {
     "data": {
      "text/plain": [
       "array([[0., 0., 0., 0.],\n",
       "       [4., 0., 0., 0.],\n",
       "       [0., 0., 0., 0.],\n",
       "       [0., 0., 0., 0.]])"
      ]
     },
     "execution_count": 279,
     "metadata": {},
     "output_type": "execute_result"
    }
   ],
   "source": [
    "game.board"
   ]
  },
  {
   "cell_type": "code",
   "execution_count": 280,
   "id": "5e662ed9-2957-4efb-b181-df33fcdb8591",
   "metadata": {},
   "outputs": [],
   "source": [
    "game.right()"
   ]
  },
  {
   "cell_type": "code",
   "execution_count": 281,
   "id": "e5c04e50-35ae-4077-90eb-90e01ca8f3d8",
   "metadata": {},
   "outputs": [
    {
     "data": {
      "text/plain": [
       "array([[0., 0., 0., 0.],\n",
       "       [0., 0., 0., 4.],\n",
       "       [0., 0., 0., 0.],\n",
       "       [0., 0., 0., 0.]])"
      ]
     },
     "execution_count": 281,
     "metadata": {},
     "output_type": "execute_result"
    }
   ],
   "source": [
    "game.board"
   ]
  },
  {
   "cell_type": "code",
   "execution_count": null,
   "id": "68d94ce2-a06f-4f26-8e84-93f29a24944b",
   "metadata": {},
   "outputs": [],
   "source": []
  },
  {
   "cell_type": "code",
   "execution_count": null,
   "id": "a910bcce-37b7-4073-a40f-a187dcb27197",
   "metadata": {},
   "outputs": [],
   "source": []
  }
 ],
 "metadata": {
  "kernelspec": {
   "display_name": "Python 3 (ipykernel)",
   "language": "python",
   "name": "python3"
  },
  "language_info": {
   "codemirror_mode": {
    "name": "ipython",
    "version": 3
   },
   "file_extension": ".py",
   "mimetype": "text/x-python",
   "name": "python",
   "nbconvert_exporter": "python",
   "pygments_lexer": "ipython3",
   "version": "3.12.5"
  }
 },
 "nbformat": 4,
 "nbformat_minor": 5
}
