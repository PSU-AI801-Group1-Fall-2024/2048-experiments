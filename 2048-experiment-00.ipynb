{
 "cells": [
  {
   "cell_type": "code",
   "execution_count": 1,
   "id": "e8683772-b952-4eb6-84cf-74bc9b914e8e",
   "metadata": {},
   "outputs": [],
   "source": [
    "import numpy as np\n",
    "import random\n",
    "import math"
   ]
  },
  {
   "cell_type": "markdown",
   "id": "d1e477c3-8568-4a32-8792-16a1c525255b",
   "metadata": {},
   "source": [
    "# Game Engine"
   ]
  },
  {
   "cell_type": "code",
   "execution_count": 2,
   "id": "816e0c2b-6020-4940-a1cd-ccd0872e3615",
   "metadata": {},
   "outputs": [],
   "source": [
    "class Game():\n",
    "    def __init__(self):\n",
    "        self.board = np.zeros([4, 4])\n",
    "        self.last = None\n",
    "\n",
    "    def new_piece(self):\n",
    "        flattened_board = self.board.reshape(16)\n",
    "        empty_spots = np.where(flattened_board == 0)[0]\n",
    "        \n",
    "        if len(empty_spots) == 0:\n",
    "            return False\n",
    "        else:\n",
    "            new_spot = empty_spots[random.randint(0, len(empty_spots) - 1)]\n",
    "            print(f\"New cell created at {math.trunc(new_spot / 4)},{new_spot % 4}\")\n",
    "            flattened_board[new_spot] = 2 if random.randint(0, 10) else 4\n",
    "            self.board = flattened_board.reshape(4, 4)\n",
    "\n",
    "        return True\n",
    "\n",
    "\n",
    "    def has_won(self):\n",
    "        return np.any(self.board >= 2048) and not any(self.can_move(direction) for direction in ['L', 'R', 'U', 'D'])\n",
    "\n",
    "    def has_lost(self):\n",
    "        return not any(self.can_move(direction) for direction in ['L', 'R', 'U', 'D']) and not np.any(self.board >= 2048)\n",
    "\n",
    "    def status(self):\n",
    "        # Determine game status based on game conditions\n",
    "        if any(self.can_move(direction) for direction in ['L', 'R', 'U', 'D']):\n",
    "            return \"Game Ongoing\"\n",
    "        elif self.has_won():\n",
    "            return \"Game Won\"\n",
    "        elif self.has_lost():\n",
    "            return \"Game Lost\"\n",
    "        else:\n",
    "            return \"Unknown State\"\n",
    "        \n",
    "    def can_move(self, direction):\n",
    "        if direction == 'L':  # Move left\n",
    "            for row in self.board:\n",
    "                for i in range(1, 4):\n",
    "                    if row[i] != 0 and (row[i - 1] == 0 or row[i - 1] == row[i]):\n",
    "                        return True\n",
    "        elif direction == 'R':  # Move right\n",
    "            for row in self.board:\n",
    "                for i in range(2, -1, -1):\n",
    "                    if row[i] != 0 and (row[i + 1] == 0 or row[i + 1] == row[i]):\n",
    "                        return True\n",
    "        elif direction == 'U':  # Move up\n",
    "            for col in range(4):\n",
    "                for row in range(1, 4):\n",
    "                    if self.board[row][col] != 0 and (self.board[row - 1][col] == 0 or self.board[row - 1][col] == self.board[row][col]):\n",
    "                        return True\n",
    "        elif direction == 'D':  # Move down\n",
    "            for col in range(4):\n",
    "                for row in range(2, -1, -1):\n",
    "                    if self.board[row][col] != 0 and (self.board[row + 1][col] == 0 or self.board[row + 1][col] == self.board[row][col]):\n",
    "                        return True\n",
    "        return False\n",
    "\n",
    "    def transition_left(self):    \n",
    "        for m in range(0, 4):\n",
    "            merged = False # only allow one merge per row per turn, as per the rules\n",
    "            \n",
    "            for i in range(0, 4):\n",
    "                for n in range(1, 4):\n",
    "                    if not self.board[m][n] == 0 and not merged and self.board[m][n - 1] == self.board[m][n]:\n",
    "                        print(f\"Cells merged into {m},{n - 1}\")\n",
    "                        self.board[m][n - 1], self.board[m][n] = self.board[m][n - 1] * 2, 0\n",
    "                        merged = True\n",
    "                        \n",
    "                    if self.board[m][n - 1] == 0 and self.board[m][n] != 0:\n",
    "                        self.board[m][n - 1], self.board[m][n] = self.board[m][n], 0\n",
    "\n",
    "    def transition_right(self):\n",
    "        for m in range(0, 4):\n",
    "            merged = False # only allow one merge per row per turn, as per the rules\n",
    "\n",
    "            for i in range(0, 4):\n",
    "                for n in range(2, -1, -1):\n",
    "                    if not self.board[m][n] == 0 and not merged and self.board[m][n] == self.board[m][n + 1]:\n",
    "                        print(f\"Cells merged into {m},{n + 1}\")\n",
    "                        self.board[m][n], self.board[m][n + 1] = 0, self.board[m][n] * 2\n",
    "                        merged = True\n",
    "                    \n",
    "                    if self.board[m][n] != 0 and self.board[m][n + 1] == 0:\n",
    "                        self.board[m][n], self.board[m][n + 1] = 0, self.board[m][n]\n",
    "            \n",
    "    def transition_up(self):\n",
    "        for n in range(0, 4):\n",
    "            merged = False # only allow one merge per column per turn, as per the rules\n",
    "            \n",
    "            for i in range(0, 4):\n",
    "                for m in range(1, 4):\n",
    "                    if not self.board[m][n] == 0 and not merged and self.board[m - 1][n] == self.board[m][n]:\n",
    "                        print(f\"Cells merged into {m - 1},{n}\")\n",
    "                        self.board[m - 1][n], self.board[m][n] = self.board[m - 1][n] * 2, 0\n",
    "                        merged = True\n",
    "                        \n",
    "                    if self.board[m - 1][n] == 0 and self.board[m][n] != 0:\n",
    "                        self.board[m - 1][n], self.board[m][n] = self.board[m][n], 0\n",
    "\n",
    "    def transition_down(self):\n",
    "        for n in range(0, 4):\n",
    "            merged = False # only allow one merge per column per turn, as per the rules\n",
    "\n",
    "            for i in range(0, 4):\n",
    "                for m in range(2, -1, -1):\n",
    "                    if not self.board[m][n] == 0 and not merged and self.board[m][n] == self.board[m + 1][n]:\n",
    "                        print(f\"Cells merged into {m + 1},{n}\")\n",
    "                        self.board[m][n], self.board[m + 1][n] = 0, self.board[m][n] * 2\n",
    "                        merged = True\n",
    "                    \n",
    "                    if self.board[m][n] != 0 and self.board[m + 1][n] == 0:\n",
    "                        self.board[m][n], self.board[m + 1][n] = 0, self.board[m][n]\n",
    "    \n",
    "    def transition(self, direction):\n",
    "        if self.can_move(direction):\n",
    "            match direction:\n",
    "                case 'L':\n",
    "                    self.transition_left()\n",
    "                case 'R':\n",
    "                    self.transition_right()\n",
    "                case 'U':\n",
    "                    self.transition_up()\n",
    "                case 'D':\n",
    "                    self.transition_down()\n",
    "            \n",
    "            self.last = direction\n",
    "            self.new_piece()          \n",
    "                    "
   ]
  },
  {
   "cell_type": "markdown",
   "id": "00b31b69-319c-489c-a982-4eb4a3e113dc",
   "metadata": {},
   "source": [
    "# Test new piece generation and basic movement"
   ]
  },
  {
   "cell_type": "code",
   "execution_count": 3,
   "id": "b2e2cb0f-211d-4251-9a2d-6fc59c7e0a86",
   "metadata": {},
   "outputs": [
    {
     "data": {
      "text/plain": [
       "array([[0., 0., 0., 0.],\n",
       "       [0., 0., 0., 0.],\n",
       "       [0., 0., 0., 0.],\n",
       "       [0., 0., 0., 0.]])"
      ]
     },
     "execution_count": 3,
     "metadata": {},
     "output_type": "execute_result"
    }
   ],
   "source": [
    "game = Game()\n",
    "game.board"
   ]
  },
  {
   "cell_type": "code",
   "execution_count": 4,
   "id": "74f7d4c5-258b-49ef-865a-3919f719c58f",
   "metadata": {},
   "outputs": [
    {
     "name": "stdout",
     "output_type": "stream",
     "text": [
      "New cell created at 3,0\n",
      "New cell created at 2,1\n"
     ]
    },
    {
     "data": {
      "text/plain": [
       "array([[0., 0., 0., 0.],\n",
       "       [0., 0., 0., 0.],\n",
       "       [0., 2., 0., 0.],\n",
       "       [2., 0., 0., 0.]])"
      ]
     },
     "execution_count": 4,
     "metadata": {},
     "output_type": "execute_result"
    }
   ],
   "source": [
    "game.new_piece()\n",
    "game.new_piece()\n",
    "game.board"
   ]
  },
  {
   "cell_type": "code",
   "execution_count": 5,
   "id": "256cde39-148c-490c-85cc-a6bad35432c6",
   "metadata": {},
   "outputs": [
    {
     "name": "stdout",
     "output_type": "stream",
     "text": [
      "New cell created at 0,1\n"
     ]
    },
    {
     "data": {
      "text/plain": [
       "array([[0., 2., 0., 0.],\n",
       "       [0., 0., 0., 0.],\n",
       "       [2., 0., 0., 0.],\n",
       "       [2., 0., 0., 0.]])"
      ]
     },
     "execution_count": 5,
     "metadata": {},
     "output_type": "execute_result"
    }
   ],
   "source": [
    "game.transition('L')\n",
    "game.board"
   ]
  },
  {
   "cell_type": "code",
   "execution_count": 6,
   "id": "5e662ed9-2957-4efb-b181-df33fcdb8591",
   "metadata": {},
   "outputs": [
    {
     "name": "stdout",
     "output_type": "stream",
     "text": [
      "New cell created at 3,1\n"
     ]
    },
    {
     "data": {
      "text/plain": [
       "array([[0., 0., 0., 2.],\n",
       "       [0., 0., 0., 0.],\n",
       "       [0., 0., 0., 2.],\n",
       "       [0., 2., 0., 2.]])"
      ]
     },
     "execution_count": 6,
     "metadata": {},
     "output_type": "execute_result"
    }
   ],
   "source": [
    "game.transition('R')\n",
    "game.board "
   ]
  },
  {
   "cell_type": "markdown",
   "id": "e4f1ea55-ebb1-4d06-b9d5-2cfbcb28f709",
   "metadata": {},
   "source": [
    "# Test merge left"
   ]
  },
  {
   "cell_type": "code",
   "execution_count": 7,
   "id": "68d94ce2-a06f-4f26-8e84-93f29a24944b",
   "metadata": {},
   "outputs": [
    {
     "data": {
      "text/plain": [
       "array([[2., 0., 0., 2.],\n",
       "       [0., 0., 0., 0.],\n",
       "       [0., 0., 0., 0.],\n",
       "       [0., 0., 0., 0.]])"
      ]
     },
     "execution_count": 7,
     "metadata": {},
     "output_type": "execute_result"
    }
   ],
   "source": [
    "game = Game()\n",
    "game.board[0][0], game.board[0][3] = 2, 2\n",
    "game.board"
   ]
  },
  {
   "cell_type": "code",
   "execution_count": 8,
   "id": "42a5f1a2-736e-47d8-a30b-43df89c3254d",
   "metadata": {},
   "outputs": [
    {
     "name": "stdout",
     "output_type": "stream",
     "text": [
      "Cells merged into 0,0\n",
      "New cell created at 0,3\n"
     ]
    },
    {
     "data": {
      "text/plain": [
       "array([[4., 0., 0., 2.],\n",
       "       [0., 0., 0., 0.],\n",
       "       [0., 0., 0., 0.],\n",
       "       [0., 0., 0., 0.]])"
      ]
     },
     "execution_count": 8,
     "metadata": {},
     "output_type": "execute_result"
    }
   ],
   "source": [
    "game.transition('L')\n",
    "game.board"
   ]
  },
  {
   "cell_type": "markdown",
   "id": "82535d41-d9de-48fc-ab35-1ae174c4deb3",
   "metadata": {},
   "source": [
    "# Test merge right"
   ]
  },
  {
   "cell_type": "code",
   "execution_count": 9,
   "id": "b98d5c79-e4d4-421d-9da9-748c8fc0fdb7",
   "metadata": {},
   "outputs": [
    {
     "data": {
      "text/plain": [
       "array([[2., 0., 0., 2.],\n",
       "       [0., 0., 0., 0.],\n",
       "       [0., 0., 0., 0.],\n",
       "       [0., 0., 0., 0.]])"
      ]
     },
     "execution_count": 9,
     "metadata": {},
     "output_type": "execute_result"
    }
   ],
   "source": [
    "game = Game()\n",
    "game.board[0][0], game.board[0][3] = 2, 2\n",
    "game.board"
   ]
  },
  {
   "cell_type": "code",
   "execution_count": 10,
   "id": "33acd169-6810-4735-867a-4c6fbd0ab81b",
   "metadata": {},
   "outputs": [
    {
     "name": "stdout",
     "output_type": "stream",
     "text": [
      "Cells merged into 0,3\n",
      "New cell created at 2,2\n"
     ]
    },
    {
     "data": {
      "text/plain": [
       "array([[0., 0., 0., 4.],\n",
       "       [0., 0., 0., 0.],\n",
       "       [0., 0., 2., 0.],\n",
       "       [0., 0., 0., 0.]])"
      ]
     },
     "execution_count": 10,
     "metadata": {},
     "output_type": "execute_result"
    }
   ],
   "source": [
    "game.transition('R')\n",
    "game.board"
   ]
  },
  {
   "cell_type": "markdown",
   "id": "9453b2a5-ca7b-44f8-a562-141877a189d3",
   "metadata": {},
   "source": [
    "# Test merge up"
   ]
  },
  {
   "cell_type": "code",
   "execution_count": 11,
   "id": "2ece7cab-cf19-4fdb-b261-95a4077a30ff",
   "metadata": {},
   "outputs": [
    {
     "data": {
      "text/plain": [
       "array([[2., 0., 0., 0.],\n",
       "       [0., 0., 0., 0.],\n",
       "       [0., 0., 0., 0.],\n",
       "       [2., 0., 0., 0.]])"
      ]
     },
     "execution_count": 11,
     "metadata": {},
     "output_type": "execute_result"
    }
   ],
   "source": [
    "game = Game()\n",
    "game.board[0][0], game.board[3][0] = 2, 2\n",
    "game.board"
   ]
  },
  {
   "cell_type": "code",
   "execution_count": 12,
   "id": "839c8f28-a55d-446b-b468-36cfa47fa9aa",
   "metadata": {},
   "outputs": [
    {
     "name": "stdout",
     "output_type": "stream",
     "text": [
      "Cells merged into 0,0\n",
      "New cell created at 1,1\n"
     ]
    },
    {
     "data": {
      "text/plain": [
       "array([[4., 0., 0., 0.],\n",
       "       [0., 2., 0., 0.],\n",
       "       [0., 0., 0., 0.],\n",
       "       [0., 0., 0., 0.]])"
      ]
     },
     "execution_count": 12,
     "metadata": {},
     "output_type": "execute_result"
    }
   ],
   "source": [
    "game.transition('U')\n",
    "game.board"
   ]
  },
  {
   "cell_type": "markdown",
   "id": "44518f4d-8e20-4e9b-a6d7-def4d4080f5d",
   "metadata": {},
   "source": [
    "# Test merge down"
   ]
  },
  {
   "cell_type": "code",
   "execution_count": 13,
   "id": "fc8183eb-a00f-4186-8e33-4ea7ad6613c6",
   "metadata": {},
   "outputs": [
    {
     "data": {
      "text/plain": [
       "array([[2., 0., 0., 0.],\n",
       "       [0., 0., 0., 0.],\n",
       "       [0., 0., 0., 0.],\n",
       "       [2., 0., 0., 0.]])"
      ]
     },
     "execution_count": 13,
     "metadata": {},
     "output_type": "execute_result"
    }
   ],
   "source": [
    "game = Game()\n",
    "game.board[0][0], game.board[3][0] = 2, 2\n",
    "game.board"
   ]
  },
  {
   "cell_type": "code",
   "execution_count": 14,
   "id": "8fcd51e9-6fb2-4674-9e48-769fd5d4b6c7",
   "metadata": {},
   "outputs": [
    {
     "name": "stdout",
     "output_type": "stream",
     "text": [
      "Cells merged into 3,0\n",
      "New cell created at 3,2\n"
     ]
    },
    {
     "data": {
      "text/plain": [
       "array([[0., 0., 0., 0.],\n",
       "       [0., 0., 0., 0.],\n",
       "       [0., 0., 0., 0.],\n",
       "       [4., 0., 2., 0.]])"
      ]
     },
     "execution_count": 14,
     "metadata": {},
     "output_type": "execute_result"
    }
   ],
   "source": [
    "game.transition('D')\n",
    "game.board"
   ]
  },
  {
   "cell_type": "code",
   "execution_count": null,
   "id": "fdf1dd59-803c-4010-9759-2270a06947ce",
   "metadata": {},
   "outputs": [],
   "source": []
  }
 ],
 "metadata": {
  "kernelspec": {
   "display_name": "Python 3 (ipykernel)",
   "language": "python",
   "name": "python3"
  },
  "language_info": {
   "codemirror_mode": {
    "name": "ipython",
    "version": 3
   },
   "file_extension": ".py",
   "mimetype": "text/x-python",
   "name": "python",
   "nbconvert_exporter": "python",
   "pygments_lexer": "ipython3",
   "version": "3.12.5"
  }
 },
 "nbformat": 4,
 "nbformat_minor": 5
}
