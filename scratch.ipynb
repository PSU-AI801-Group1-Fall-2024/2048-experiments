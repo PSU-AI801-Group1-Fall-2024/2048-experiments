{
 "cells": [
  {
   "cell_type": "code",
   "execution_count": 1,
   "id": "672decaf-8f8a-4c1e-ae3a-40ce665a593f",
   "metadata": {},
   "outputs": [],
   "source": [
    "import numpy as np"
   ]
  },
  {
   "cell_type": "code",
   "execution_count": 2,
   "id": "06e0854a-ee98-4969-90eb-adee71cba606",
   "metadata": {},
   "outputs": [],
   "source": [
    "x = np.array([\n",
    "    [2, 4, 0, 0],\n",
    "    [2, 0, 0, 0],\n",
    "    [0, 0, 4, 4],\n",
    "    [0, 0, 0, 0]\n",
    "])"
   ]
  },
  {
   "cell_type": "code",
   "execution_count": 24,
   "id": "86c0604c-244f-41f6-a705-506418044450",
   "metadata": {},
   "outputs": [
    {
     "data": {
      "text/plain": [
       "(array([[2, 4, 0, 0],\n",
       "        [2, 0, 0, 0],\n",
       "        [0, 0, 4, 4],\n",
       "        [0, 0, 0, 0]]),\n",
       " array([[2, 2, 0, 0],\n",
       "        [4, 0, 0, 0],\n",
       "        [0, 0, 4, 0],\n",
       "        [0, 0, 4, 0]]))"
      ]
     },
     "execution_count": 24,
     "metadata": {},
     "output_type": "execute_result"
    }
   ],
   "source": [
    "x, x.transpose()"
   ]
  },
  {
   "cell_type": "code",
   "execution_count": 28,
   "id": "3ffee546-dbe9-404b-b29e-1d9ce8e0ba40",
   "metadata": {},
   "outputs": [
    {
     "data": {
      "text/plain": [
       "2"
      ]
     },
     "execution_count": 28,
     "metadata": {},
     "output_type": "execute_result"
    }
   ],
   "source": [
    "def count_horiz_seqs(x):\n",
    "    ct = 0\n",
    "    \n",
    "    for i in range(0, x.shape[0]):\n",
    "        for j in range(0, x.shape[1] - 1):\n",
    "            if x[i, j] > 0 and x[i, j] == x[i, j + 1]:\n",
    "                ct += 1\n",
    "                \n",
    "    return ct\n",
    "\n",
    "def count_seqs(x):\n",
    "    return count_horiz_seqs(x) + count_horiz_seqs(x.transpose())"
   ]
  },
  {
   "cell_type": "code",
   "execution_count": 32,
   "id": "92a98c31-c62a-4028-a0c8-9bc3249f12e0",
   "metadata": {},
   "outputs": [
    {
     "data": {
      "text/plain": [
       "142979.54545454544"
      ]
     },
     "execution_count": 32,
     "metadata": {},
     "output_type": "execute_result"
    }
   ],
   "source": [
    "125822 / 0.88"
   ]
  },
  {
   "cell_type": "code",
   "execution_count": null,
   "id": "b055f74b-7f7c-4f57-af11-8ec0e8caaf22",
   "metadata": {},
   "outputs": [],
   "source": []
  }
 ],
 "metadata": {
  "kernelspec": {
   "display_name": "Python 3 (ipykernel)",
   "language": "python",
   "name": "python3"
  },
  "language_info": {
   "codemirror_mode": {
    "name": "ipython",
    "version": 3
   },
   "file_extension": ".py",
   "mimetype": "text/x-python",
   "name": "python",
   "nbconvert_exporter": "python",
   "pygments_lexer": "ipython3",
   "version": "3.12.7"
  }
 },
 "nbformat": 4,
 "nbformat_minor": 5
}
